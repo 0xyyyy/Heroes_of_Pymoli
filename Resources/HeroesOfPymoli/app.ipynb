{
 "cells": [
  {
   "cell_type": "markdown",
   "metadata": {},
   "source": [
    "### Heroes Of Pymoli Data Analysis\n",
    "* Of the 1163 active players, the vast majority are male (84%). There also exists, a smaller, but notable proportion of female players (14%).\n",
    "\n",
    "* Our peak age demographic falls between 20-24 (44.8%) with secondary groups falling between 15-19 (18.60%) and 25-29 (13.4%).  \n",
    "-----"
   ]
  },
  {
   "cell_type": "markdown",
   "metadata": {},
   "source": [
    "### Note\n",
    "* Instructions have been included for each segment. You do not have to follow them exactly, but they are included to help you think through the steps."
   ]
  },
  {
   "cell_type": "code",
   "execution_count": 2,
   "metadata": {},
   "outputs": [],
   "source": [
    "# Dependencies and Setup\n",
    "import pandas as pd\n",
    "\n",
    "# File to Load (Remember to Change These)\n",
    "file_to_load = \"Resources/purchase_data.csv\"\n",
    "\n",
    "# Read Purchasing File and store into Pandas data frame\n",
    "purchase_data = pd.read_csv(file_to_load)"
   ]
  },
  {
   "cell_type": "markdown",
   "metadata": {},
   "source": [
    "## Player Count"
   ]
  },
  {
   "cell_type": "markdown",
   "metadata": {},
   "source": [
    "* Display the total number of players\n"
   ]
  },
  {
   "cell_type": "code",
   "execution_count": 3,
   "metadata": {},
   "outputs": [
    {
     "output_type": "execute_result",
     "data": {
      "text/plain": "   Purchase ID             SN  Age Gender  Item ID  \\\n0            0        Lisim78   20   Male      108   \n1            1    Lisovynya38   40   Male      143   \n2            2     Ithergue48   24   Male       92   \n3            3  Chamassasya86   24   Male      100   \n4            4      Iskosia90   23   Male      131   \n\n                                   Item Name  Price  \n0  Extraction, Quickblade Of Trembling Hands   3.53  \n1                          Frenzied Scimitar   1.56  \n2                               Final Critic   4.88  \n3                                Blindscythe   3.27  \n4                                       Fury   1.44  ",
      "text/html": "<div>\n<style scoped>\n    .dataframe tbody tr th:only-of-type {\n        vertical-align: middle;\n    }\n\n    .dataframe tbody tr th {\n        vertical-align: top;\n    }\n\n    .dataframe thead th {\n        text-align: right;\n    }\n</style>\n<table border=\"1\" class=\"dataframe\">\n  <thead>\n    <tr style=\"text-align: right;\">\n      <th></th>\n      <th>Purchase ID</th>\n      <th>SN</th>\n      <th>Age</th>\n      <th>Gender</th>\n      <th>Item ID</th>\n      <th>Item Name</th>\n      <th>Price</th>\n    </tr>\n  </thead>\n  <tbody>\n    <tr>\n      <th>0</th>\n      <td>0</td>\n      <td>Lisim78</td>\n      <td>20</td>\n      <td>Male</td>\n      <td>108</td>\n      <td>Extraction, Quickblade Of Trembling Hands</td>\n      <td>3.53</td>\n    </tr>\n    <tr>\n      <th>1</th>\n      <td>1</td>\n      <td>Lisovynya38</td>\n      <td>40</td>\n      <td>Male</td>\n      <td>143</td>\n      <td>Frenzied Scimitar</td>\n      <td>1.56</td>\n    </tr>\n    <tr>\n      <th>2</th>\n      <td>2</td>\n      <td>Ithergue48</td>\n      <td>24</td>\n      <td>Male</td>\n      <td>92</td>\n      <td>Final Critic</td>\n      <td>4.88</td>\n    </tr>\n    <tr>\n      <th>3</th>\n      <td>3</td>\n      <td>Chamassasya86</td>\n      <td>24</td>\n      <td>Male</td>\n      <td>100</td>\n      <td>Blindscythe</td>\n      <td>3.27</td>\n    </tr>\n    <tr>\n      <th>4</th>\n      <td>4</td>\n      <td>Iskosia90</td>\n      <td>23</td>\n      <td>Male</td>\n      <td>131</td>\n      <td>Fury</td>\n      <td>1.44</td>\n    </tr>\n  </tbody>\n</table>\n</div>"
     },
     "metadata": {},
     "execution_count": 3
    }
   ],
   "source": [
    "purchase_data.head()"
   ]
  },
  {
   "cell_type": "code",
   "execution_count": 6,
   "metadata": {},
   "outputs": [
    {
     "output_type": "stream",
     "name": "stdout",
     "text": "total players: 576\n"
    }
   ],
   "source": [
    "#use nunique to count total number of UNIQUE players \n",
    "print(f\"total players: {purchase_data.SN.nunique()}\")"
   ]
  },
  {
   "cell_type": "code",
   "execution_count": 8,
   "metadata": {},
   "outputs": [
    {
     "output_type": "execute_result",
     "data": {
      "text/plain": "   Total Players\n0            576",
      "text/html": "<div>\n<style scoped>\n    .dataframe tbody tr th:only-of-type {\n        vertical-align: middle;\n    }\n\n    .dataframe tbody tr th {\n        vertical-align: top;\n    }\n\n    .dataframe thead th {\n        text-align: right;\n    }\n</style>\n<table border=\"1\" class=\"dataframe\">\n  <thead>\n    <tr style=\"text-align: right;\">\n      <th></th>\n      <th>Total Players</th>\n    </tr>\n  </thead>\n  <tbody>\n    <tr>\n      <th>0</th>\n      <td>576</td>\n    </tr>\n  </tbody>\n</table>\n</div>"
     },
     "metadata": {},
     "execution_count": 8
    }
   ],
   "source": [
    "#create dataframe which displays total player count \n",
    "players = [576]\n",
    "players_df = pd.DataFrame(players, columns = [\"Total Players\"])\n",
    "players_df.head()"
   ]
  },
  {
   "cell_type": "markdown",
   "metadata": {},
   "source": [
    "## Purchasing Analysis (Total)"
   ]
  },
  {
   "cell_type": "markdown",
   "metadata": {},
   "source": [
    "* Run basic calculations to obtain number of unique items, average price, etc.\n",
    "\n",
    "\n",
    "* Create a summary data frame to hold the results\n",
    "\n",
    "\n",
    "* Optional: give the displayed data cleaner formatting\n",
    "\n",
    "\n",
    "* Display the summary data frame\n"
   ]
  },
  {
   "cell_type": "code",
   "execution_count": 22,
   "metadata": {},
   "outputs": [
    {
     "output_type": "execute_result",
     "data": {
      "text/plain": "                                   Item Name  Price  Purchase ID\n0  Extraction, Quickblade Of Trembling Hands   3.53            0\n1                          Frenzied Scimitar   1.56            1\n2                               Final Critic   4.88            2\n3                                Blindscythe   3.27            3\n4                                       Fury   1.44            4",
      "text/html": "<div>\n<style scoped>\n    .dataframe tbody tr th:only-of-type {\n        vertical-align: middle;\n    }\n\n    .dataframe tbody tr th {\n        vertical-align: top;\n    }\n\n    .dataframe thead th {\n        text-align: right;\n    }\n</style>\n<table border=\"1\" class=\"dataframe\">\n  <thead>\n    <tr style=\"text-align: right;\">\n      <th></th>\n      <th>Item Name</th>\n      <th>Price</th>\n      <th>Purchase ID</th>\n    </tr>\n  </thead>\n  <tbody>\n    <tr>\n      <th>0</th>\n      <td>Extraction, Quickblade Of Trembling Hands</td>\n      <td>3.53</td>\n      <td>0</td>\n    </tr>\n    <tr>\n      <th>1</th>\n      <td>Frenzied Scimitar</td>\n      <td>1.56</td>\n      <td>1</td>\n    </tr>\n    <tr>\n      <th>2</th>\n      <td>Final Critic</td>\n      <td>4.88</td>\n      <td>2</td>\n    </tr>\n    <tr>\n      <th>3</th>\n      <td>Blindscythe</td>\n      <td>3.27</td>\n      <td>3</td>\n    </tr>\n    <tr>\n      <th>4</th>\n      <td>Fury</td>\n      <td>1.44</td>\n      <td>4</td>\n    </tr>\n  </tbody>\n</table>\n</div>"
     },
     "metadata": {},
     "execution_count": 22
    }
   ],
   "source": [
    "#Create data frame which includes only purchase data \n",
    "purchasing_analysis_df = purchase_data[[\"Item Name\", \"Price\", \"Purchase ID\"]]\n",
    "purchasing_analysis_df.head()"
   ]
  },
  {
   "cell_type": "code",
   "execution_count": 27,
   "metadata": {},
   "outputs": [
    {
     "output_type": "stream",
     "name": "stdout",
     "text": "179\n3.0509871794871795\n780\n2379.77\n"
    }
   ],
   "source": [
    "#print summary information and then output into a summary table with revised column titles \n",
    "unique_item = purchasing_analysis_df[\"Item Name\"].nunique()\n",
    "print(unique_item)\n",
    "average_price = purchasing_analysis_df[\"Price\"].mean()\n",
    "print(average_price)\n",
    "purchase_number = purchasing_analysis_df[\"Purchase ID\"].nunique()\n",
    "print(purchase_number)\n",
    "revenue = purchasing_analysis_df[\"Price\"].sum()\n",
    "print(revenue)"
   ]
  },
  {
   "cell_type": "code",
   "execution_count": 283,
   "metadata": {},
   "outputs": [
    {
     "output_type": "execute_result",
     "data": {
      "text/plain": "   Number of Unique Items Average Price  Number of Purchases Total Revenue\n0                     179         $3.05                  780      $2379.77",
      "text/html": "<div>\n<style scoped>\n    .dataframe tbody tr th:only-of-type {\n        vertical-align: middle;\n    }\n\n    .dataframe tbody tr th {\n        vertical-align: top;\n    }\n\n    .dataframe thead th {\n        text-align: right;\n    }\n</style>\n<table border=\"1\" class=\"dataframe\">\n  <thead>\n    <tr style=\"text-align: right;\">\n      <th></th>\n      <th>Number of Unique Items</th>\n      <th>Average Price</th>\n      <th>Number of Purchases</th>\n      <th>Total Revenue</th>\n    </tr>\n  </thead>\n  <tbody>\n    <tr>\n      <th>0</th>\n      <td>179</td>\n      <td>$3.05</td>\n      <td>780</td>\n      <td>$2379.77</td>\n    </tr>\n  </tbody>\n</table>\n</div>"
     },
     "metadata": {},
     "execution_count": 283
    }
   ],
   "source": [
    "#make sure dataframe matches the provided example clean up and reformat data \n",
    "purchase_summary = {\"Number of Unique Items\": [unique_item], \"Average Price\": [round(average_price,2)], \"Number of Purchases\": [purchase_number], \"Total Revenue\": [round(revenue,2)]}\n",
    "purchase_summary_df = pd.DataFrame(purchase_summary)\n",
    "purchase_summary_df[\"Average Price\"] = purchase_summary_df[\"Average Price\"].map(\"${:.2f}\".format)\n",
    "purchase_summary_df[\"Total Revenue\"] = purchase_summary_df[\"Total Revenue\"].map(\"${:.2f}\".format)\n",
    "purchase_summary_df.head()"
   ]
  },
  {
   "cell_type": "code",
   "execution_count": 3,
   "metadata": {
    "scrolled": true
   },
   "outputs": [
    {
     "data": {
      "text/html": [
       "<div>\n",
       "<style scoped>\n",
       "    .dataframe tbody tr th:only-of-type {\n",
       "        vertical-align: middle;\n",
       "    }\n",
       "\n",
       "    .dataframe tbody tr th {\n",
       "        vertical-align: top;\n",
       "    }\n",
       "\n",
       "    .dataframe thead th {\n",
       "        text-align: right;\n",
       "    }\n",
       "</style>\n",
       "<table border=\"1\" class=\"dataframe\">\n",
       "  <thead>\n",
       "    <tr style=\"text-align: right;\">\n",
       "      <th></th>\n",
       "      <th>Number of Unique Items</th>\n",
       "      <th>Average Price</th>\n",
       "      <th>Number of Purchases</th>\n",
       "      <th>Total Revenue</th>\n",
       "    </tr>\n",
       "  </thead>\n",
       "  <tbody>\n",
       "    <tr>\n",
       "      <th>0</th>\n",
       "      <td>179</td>\n",
       "      <td>$3.05</td>\n",
       "      <td>780</td>\n",
       "      <td>$2,379.77</td>\n",
       "    </tr>\n",
       "  </tbody>\n",
       "</table>\n",
       "</div>"
      ],
      "text/plain": [
       "   Number of Unique Items Average Price Number of Purchases Total Revenue\n",
       "0                     179         $3.05                 780     $2,379.77"
      ]
     },
     "execution_count": 3,
     "metadata": {},
     "output_type": "execute_result"
    }
   ],
   "source": [
    "#this is the example provided "
   ]
  },
  {
   "cell_type": "markdown",
   "metadata": {},
   "source": [
    "## Gender Demographics"
   ]
  },
  {
   "cell_type": "markdown",
   "metadata": {},
   "source": [
    "* Percentage and Count of Male Players\n",
    "\n",
    "\n",
    "* Percentage and Count of Female Players\n",
    "\n",
    "\n",
    "* Percentage and Count of Other / Non-Disclosed\n",
    "\n",
    "\n"
   ]
  },
  {
   "cell_type": "code",
   "execution_count": 287,
   "metadata": {},
   "outputs": [
    {
     "output_type": "execute_result",
     "data": {
      "text/plain": "Male                     484\nFemale                    81\nOther / Non-Disclosed     11\nName: Gender, dtype: int64"
     },
     "metadata": {},
     "execution_count": 287
    }
   ],
   "source": [
    "#initialize another dataframe which includes relevant information \n",
    "gender_df = purchase_data[[\"Gender\", \"SN\"]]\n",
    "gender_df.drop_duplicates(inplace = True)\n",
    "gender_df.head()\n",
    "gender_df[\"Gender\"].value_counts()\n",
    "#obtain intial value counts for gender "
   ]
  },
  {
   "cell_type": "code",
   "execution_count": 288,
   "metadata": {},
   "outputs": [
    {
     "output_type": "stream",
     "name": "stdout",
     "text": "Gender    484\nSN        484\ndtype: int64\n"
    }
   ],
   "source": [
    "#print number of each gender \n",
    "gender_male = gender_df.loc[gender_df[\"Gender\"] == \"Male\"]\n",
    "males = gender_male.count()\n",
    "print(males)\n",
    "\n",
    ""
   ]
  },
  {
   "cell_type": "code",
   "execution_count": 289,
   "metadata": {},
   "outputs": [
    {
     "output_type": "stream",
     "name": "stdout",
     "text": "Gender    81\nSN        81\ndtype: int64\n"
    }
   ],
   "source": [
    "gender_female = gender_df.loc[gender_df[\"Gender\"] == \"Female\"]\n",
    "females = gender_female.count()\n",
    "print(females)"
   ]
  },
  {
   "cell_type": "code",
   "execution_count": 290,
   "metadata": {},
   "outputs": [
    {
     "output_type": "stream",
     "name": "stdout",
     "text": "Gender    11\nSN        11\ndtype: int64\n"
    }
   ],
   "source": [
    "gender_other = gender_df.loc[gender_df[\"Gender\"] == \"Other / Non-Disclosed\"]\n",
    "other = gender_other.count()\n",
    "print(other)"
   ]
  },
  {
   "cell_type": "code",
   "execution_count": 291,
   "metadata": {},
   "outputs": [
    {
     "output_type": "stream",
     "name": "stdout",
     "text": "Gender    576\nSN        576\ndtype: int64\n"
    }
   ],
   "source": [
    "gender_total = males + females + other\n",
    "print(gender_total)"
   ]
  },
  {
   "cell_type": "code",
   "execution_count": 300,
   "metadata": {},
   "outputs": [
    {
     "output_type": "execute_result",
     "data": {
      "text/plain": "                  Gender  Total Count  Percentage of players\n0                   Male          484                  84.03\n1                 Female           81                  14.06\n2  Other / Non-Disclosed           11                   1.91",
      "text/html": "<div>\n<style scoped>\n    .dataframe tbody tr th:only-of-type {\n        vertical-align: middle;\n    }\n\n    .dataframe tbody tr th {\n        vertical-align: top;\n    }\n\n    .dataframe thead th {\n        text-align: right;\n    }\n</style>\n<table border=\"1\" class=\"dataframe\">\n  <thead>\n    <tr style=\"text-align: right;\">\n      <th></th>\n      <th>Gender</th>\n      <th>Total Count</th>\n      <th>Percentage of players</th>\n    </tr>\n  </thead>\n  <tbody>\n    <tr>\n      <th>0</th>\n      <td>Male</td>\n      <td>484</td>\n      <td>84.03</td>\n    </tr>\n    <tr>\n      <th>1</th>\n      <td>Female</td>\n      <td>81</td>\n      <td>14.06</td>\n    </tr>\n    <tr>\n      <th>2</th>\n      <td>Other / Non-Disclosed</td>\n      <td>11</td>\n      <td>1.91</td>\n    </tr>\n  </tbody>\n</table>\n</div>"
     },
     "metadata": {},
     "execution_count": 300
    }
   ],
   "source": [
    "#using the value counts and gender counts above calculate the % demographics using a dictionary to initialize a new dataframe with the demographic summary\n",
    "Demographics_summary = {\"Gender\": [\"Male\", \"Female\", \"Other / Non-Disclosed\"], \"Total Count\": [484, 81, 11], \"Percentage of players\": [round((484/576)*100,2), round((81/576)*100,2), round((11/576)*100,2)]}\n",
    "\n",
    "Demographics_summary_df = pd.DataFrame(Demographics_summary)\n",
    "Demographics_summary_df.head()\n",
    ""
   ]
  },
  {
   "cell_type": "code",
   "execution_count": 4,
   "metadata": {},
   "outputs": [
    {
     "data": {
      "text/html": [
       "<div>\n",
       "<style scoped>\n",
       "    .dataframe tbody tr th:only-of-type {\n",
       "        vertical-align: middle;\n",
       "    }\n",
       "\n",
       "    .dataframe tbody tr th {\n",
       "        vertical-align: top;\n",
       "    }\n",
       "\n",
       "    .dataframe thead th {\n",
       "        text-align: right;\n",
       "    }\n",
       "</style>\n",
       "<table border=\"1\" class=\"dataframe\">\n",
       "  <thead>\n",
       "    <tr style=\"text-align: right;\">\n",
       "      <th></th>\n",
       "      <th>Total Count</th>\n",
       "      <th>Percentage of Players</th>\n",
       "    </tr>\n",
       "  </thead>\n",
       "  <tbody>\n",
       "    <tr>\n",
       "      <th>Male</th>\n",
       "      <td>484</td>\n",
       "      <td>84.03%</td>\n",
       "    </tr>\n",
       "    <tr>\n",
       "      <th>Female</th>\n",
       "      <td>81</td>\n",
       "      <td>14.06%</td>\n",
       "    </tr>\n",
       "    <tr>\n",
       "      <th>Other / Non-Disclosed</th>\n",
       "      <td>11</td>\n",
       "      <td>1.91%</td>\n",
       "    </tr>\n",
       "  </tbody>\n",
       "</table>\n",
       "</div>"
      ],
      "text/plain": [
       "                       Total Count Percentage of Players\n",
       "Male                           484                84.03%\n",
       "Female                          81                14.06%\n",
       "Other / Non-Disclosed           11                 1.91%"
      ]
     },
     "execution_count": 4,
     "metadata": {},
     "output_type": "execute_result"
    }
   ],
   "source": []
  },
  {
   "cell_type": "markdown",
   "metadata": {},
   "source": [
    "\n",
    "## Purchasing Analysis (Gender)"
   ]
  },
  {
   "cell_type": "markdown",
   "metadata": {},
   "source": [
    "* Run basic calculations to obtain purchase count, avg. purchase price, avg. purchase total per person etc. by gender\n",
    "\n",
    "\n",
    "\n",
    "\n",
    "* Create a summary data frame to hold the results\n",
    "\n",
    "\n",
    "* Optional: give the displayed data cleaner formatting\n",
    "\n",
    "\n",
    "* Display the summary data frame"
   ]
  },
  {
   "cell_type": "code",
   "execution_count": 91,
   "metadata": {},
   "outputs": [
    {
     "output_type": "execute_result",
     "data": {
      "text/plain": "   Purchase ID             SN  Age Gender  Item ID  \\\n0            0        Lisim78   20   Male      108   \n1            1    Lisovynya38   40   Male      143   \n2            2     Ithergue48   24   Male       92   \n3            3  Chamassasya86   24   Male      100   \n4            4      Iskosia90   23   Male      131   \n\n                                   Item Name  Price  \n0  Extraction, Quickblade Of Trembling Hands   3.53  \n1                          Frenzied Scimitar   1.56  \n2                               Final Critic   4.88  \n3                                Blindscythe   3.27  \n4                                       Fury   1.44  ",
      "text/html": "<div>\n<style scoped>\n    .dataframe tbody tr th:only-of-type {\n        vertical-align: middle;\n    }\n\n    .dataframe tbody tr th {\n        vertical-align: top;\n    }\n\n    .dataframe thead th {\n        text-align: right;\n    }\n</style>\n<table border=\"1\" class=\"dataframe\">\n  <thead>\n    <tr style=\"text-align: right;\">\n      <th></th>\n      <th>Purchase ID</th>\n      <th>SN</th>\n      <th>Age</th>\n      <th>Gender</th>\n      <th>Item ID</th>\n      <th>Item Name</th>\n      <th>Price</th>\n    </tr>\n  </thead>\n  <tbody>\n    <tr>\n      <th>0</th>\n      <td>0</td>\n      <td>Lisim78</td>\n      <td>20</td>\n      <td>Male</td>\n      <td>108</td>\n      <td>Extraction, Quickblade Of Trembling Hands</td>\n      <td>3.53</td>\n    </tr>\n    <tr>\n      <th>1</th>\n      <td>1</td>\n      <td>Lisovynya38</td>\n      <td>40</td>\n      <td>Male</td>\n      <td>143</td>\n      <td>Frenzied Scimitar</td>\n      <td>1.56</td>\n    </tr>\n    <tr>\n      <th>2</th>\n      <td>2</td>\n      <td>Ithergue48</td>\n      <td>24</td>\n      <td>Male</td>\n      <td>92</td>\n      <td>Final Critic</td>\n      <td>4.88</td>\n    </tr>\n    <tr>\n      <th>3</th>\n      <td>3</td>\n      <td>Chamassasya86</td>\n      <td>24</td>\n      <td>Male</td>\n      <td>100</td>\n      <td>Blindscythe</td>\n      <td>3.27</td>\n    </tr>\n    <tr>\n      <th>4</th>\n      <td>4</td>\n      <td>Iskosia90</td>\n      <td>23</td>\n      <td>Male</td>\n      <td>131</td>\n      <td>Fury</td>\n      <td>1.44</td>\n    </tr>\n  </tbody>\n</table>\n</div>"
     },
     "metadata": {},
     "execution_count": 91
    }
   ],
   "source": [
    "#Display purchase data to reference for following column \n",
    "purchase_data.head()"
   ]
  },
  {
   "cell_type": "code",
   "execution_count": 114,
   "metadata": {},
   "outputs": [
    {
     "output_type": "stream",
     "name": "stdout",
     "text": "3.2\n"
    }
   ],
   "source": [
    "#Create new dataframe with relevant columns to begin extracting needed information \n",
    "gender_purchasing_analysis_df = purchase_data[[\"SN\", \"Gender\", \"Price\"]]\n",
    "gender_purchasing_analysis_df.head()\n",
    "grouped_female_df = gender_purchasing_analysis_df.groupby([\"Gender\"])\n",
    "grouped_female_df.head()\n",
    "female_spending_df = gender_purchasing_analysis_df.loc[gender_purchasing_analysis_df[\"Gender\"] == \"Female\"]\n",
    "female_spending_df.head()\n",
    "#average female purchasing price \n",
    "female_avg_spent = female_spending_df[\"Price\"].mean()\n",
    "print(round(female_avg_spent,2))\n",
    "\n",
    "\n",
    ""
   ]
  },
  {
   "cell_type": "code",
   "execution_count": 115,
   "metadata": {},
   "outputs": [
    {
     "output_type": "stream",
     "name": "stdout",
     "text": "3.02\n"
    }
   ],
   "source": [
    "male_spending_df = gender_purchasing_analysis_df.loc[gender_purchasing_analysis_df[\"Gender\"] == \"Male\"]\n",
    "male_avg_spent = male_spending_df[\"Price\"].mean()\n",
    "print(round(male_avg_spent,2))"
   ]
  },
  {
   "cell_type": "markdown",
   "metadata": {},
   "source": [
    "other_spending_df = gender_purchasing_analysis_df.loc[gender_purchasing_analysis_df[\"Gender\"] == \"Other\"]"
   ]
  },
  {
   "cell_type": "code",
   "execution_count": 116,
   "metadata": {},
   "outputs": [
    {
     "output_type": "stream",
     "name": "stdout",
     "text": "3.35\n"
    }
   ],
   "source": [
    "other_spending = gender_purchasing_analysis_df.loc[gender_purchasing_analysis_df[\"Gender\"] == \"Other / Non-Disclosed\"]\n",
    "other_avg_spent = other_spending[\"Price\"].mean()\n",
    "print(round(other_avg_spent,2))"
   ]
  },
  {
   "cell_type": "code",
   "execution_count": 126,
   "metadata": {},
   "outputs": [
    {
     "output_type": "stream",
     "name": "stdout",
     "text": "Females summary\n113\nAverage total: 4.47\n361.94\nMale summary\n652\nAverage total: 4.07\n1967.64\nOther Summary\n15\nAverage total: 4.56\n50.19\n"
    }
   ],
   "source": [
    "#Get initial summary of purchases\n",
    "female_purch = female_spending_df[\"Price\"].count()\n",
    "print(\"Females summary\")\n",
    "print(female_purch)\n",
    "female_avg_rev = female_total_rev/81\n",
    "print(f\"Average total: {round(female_avg_rev,2)}\")\n",
    "female_total_rev = female_spending_df[\"Price\"].sum()\n",
    "print(female_total_rev)\n",
    "\n",
    "male_purch = male_spending_df[\"Price\"].count()\n",
    "print(\"Male summary\")\n",
    "print(male_purch)\n",
    "male_avg_rev = male_total_rev/484\n",
    "print(f\"Average total: {round(male_avg_rev,2)}\")\n",
    "male_total_rev = male_spending_df[\"Price\"].sum()\n",
    "print(male_total_rev)\n",
    "\n",
    "other_purch = other_spending[\"Price\"].count()\n",
    "print(\"Other Summary\")\n",
    "print(other_purch)\n",
    "other_avg_rev = other_total_rev/11\n",
    "print(f\"Average total: {round(other_avg_rev,2)}\")\n",
    "other_total_rev = other_spending[\"Price\"].sum()\n",
    "print(other_total_rev)"
   ]
  },
  {
   "cell_type": "code",
   "execution_count": 305,
   "metadata": {},
   "outputs": [
    {
     "output_type": "execute_result",
     "data": {
      "text/plain": "                  Gender  Purchase Count Average Purchase Price  \\\n0                 Female             113                  $3.20   \n1                   Male             652                  $3.02   \n2  Other / Non-Disclosed              15                  $3.35   \n\n  Total Purchase Value Avg Total Purchase per Person  \n0              $361.94                         $4.47  \n1             $1967.64                         $4.07  \n2               $50.19                         $4.56  ",
      "text/html": "<div>\n<style scoped>\n    .dataframe tbody tr th:only-of-type {\n        vertical-align: middle;\n    }\n\n    .dataframe tbody tr th {\n        vertical-align: top;\n    }\n\n    .dataframe thead th {\n        text-align: right;\n    }\n</style>\n<table border=\"1\" class=\"dataframe\">\n  <thead>\n    <tr style=\"text-align: right;\">\n      <th></th>\n      <th>Gender</th>\n      <th>Purchase Count</th>\n      <th>Average Purchase Price</th>\n      <th>Total Purchase Value</th>\n      <th>Avg Total Purchase per Person</th>\n    </tr>\n  </thead>\n  <tbody>\n    <tr>\n      <th>0</th>\n      <td>Female</td>\n      <td>113</td>\n      <td>$3.20</td>\n      <td>$361.94</td>\n      <td>$4.47</td>\n    </tr>\n    <tr>\n      <th>1</th>\n      <td>Male</td>\n      <td>652</td>\n      <td>$3.02</td>\n      <td>$1967.64</td>\n      <td>$4.07</td>\n    </tr>\n    <tr>\n      <th>2</th>\n      <td>Other / Non-Disclosed</td>\n      <td>15</td>\n      <td>$3.35</td>\n      <td>$50.19</td>\n      <td>$4.56</td>\n    </tr>\n  </tbody>\n</table>\n</div>"
     },
     "metadata": {},
     "execution_count": 305
    }
   ],
   "source": [
    "#Create dataframe with the gender purchase summary results \n",
    "Gender_purchase_summary = {\n",
    "    \"Gender\": [\"Female\", \"Male\", \"Other / Non-Disclosed\"],\n",
    "    \"Purchase Count\": [113, 652, 15],\n",
    "    \"Average Purchase Price\": [3.20, 3.02, 3.35],\n",
    "    \"Total Purchase Value\": [361.94, 1967.64, 50.19],\n",
    "    \"Avg Total Purchase per Person\": [4.47, 4.07, 4.56]\n",
    "}\n",
    "gender_purchase_summary_df = pd.DataFrame(Gender_purchase_summary)\n",
    "gender_purchase_summary_df[\"Average Purchase Price\"] = gender_purchase_summary_df[\"Average Purchase Price\"].map(\"${:.2f}\".format)\n",
    "gender_purchase_summary_df[\"Total Purchase Value\"] = gender_purchase_summary_df[\"Total Purchase Value\"].map(\"${:.2f}\".format)\n",
    "gender_purchase_summary_df[\"Avg Total Purchase per Person\"] = gender_purchase_summary_df[\"Avg Total Purchase per Person\"].map(\"${:.2f}\".format)\n",
    "gender_purchase_summary_df.head()"
   ]
  },
  {
   "cell_type": "markdown",
   "metadata": {},
   "source": [
    "## Age Demographics"
   ]
  },
  {
   "cell_type": "markdown",
   "metadata": {},
   "source": [
    "* Establish bins for ages\n",
    "\n",
    "\n",
    "* Categorize the existing players using the age bins. Hint: use pd.cut()\n",
    "\n",
    "\n",
    "* Calculate the numbers and percentages by age group\n",
    "\n",
    "\n",
    "* Create a summary data frame to hold the results\n",
    "\n",
    "\n",
    "* Optional: round the percentage column to two decimal points\n",
    "\n",
    "\n",
    "* Display Age Demographics Table\n"
   ]
  },
  {
   "cell_type": "code",
   "execution_count": 163,
   "metadata": {},
   "outputs": [
    {
     "output_type": "execute_result",
     "data": {
      "text/plain": "   Purchase ID             SN  Age Gender  Item ID  \\\n0            0        Lisim78   20   Male      108   \n1            1    Lisovynya38   40   Male      143   \n2            2     Ithergue48   24   Male       92   \n3            3  Chamassasya86   24   Male      100   \n4            4      Iskosia90   23   Male      131   \n\n                                   Item Name  Price  \n0  Extraction, Quickblade Of Trembling Hands   3.53  \n1                          Frenzied Scimitar   1.56  \n2                               Final Critic   4.88  \n3                                Blindscythe   3.27  \n4                                       Fury   1.44  ",
      "text/html": "<div>\n<style scoped>\n    .dataframe tbody tr th:only-of-type {\n        vertical-align: middle;\n    }\n\n    .dataframe tbody tr th {\n        vertical-align: top;\n    }\n\n    .dataframe thead th {\n        text-align: right;\n    }\n</style>\n<table border=\"1\" class=\"dataframe\">\n  <thead>\n    <tr style=\"text-align: right;\">\n      <th></th>\n      <th>Purchase ID</th>\n      <th>SN</th>\n      <th>Age</th>\n      <th>Gender</th>\n      <th>Item ID</th>\n      <th>Item Name</th>\n      <th>Price</th>\n    </tr>\n  </thead>\n  <tbody>\n    <tr>\n      <th>0</th>\n      <td>0</td>\n      <td>Lisim78</td>\n      <td>20</td>\n      <td>Male</td>\n      <td>108</td>\n      <td>Extraction, Quickblade Of Trembling Hands</td>\n      <td>3.53</td>\n    </tr>\n    <tr>\n      <th>1</th>\n      <td>1</td>\n      <td>Lisovynya38</td>\n      <td>40</td>\n      <td>Male</td>\n      <td>143</td>\n      <td>Frenzied Scimitar</td>\n      <td>1.56</td>\n    </tr>\n    <tr>\n      <th>2</th>\n      <td>2</td>\n      <td>Ithergue48</td>\n      <td>24</td>\n      <td>Male</td>\n      <td>92</td>\n      <td>Final Critic</td>\n      <td>4.88</td>\n    </tr>\n    <tr>\n      <th>3</th>\n      <td>3</td>\n      <td>Chamassasya86</td>\n      <td>24</td>\n      <td>Male</td>\n      <td>100</td>\n      <td>Blindscythe</td>\n      <td>3.27</td>\n    </tr>\n    <tr>\n      <th>4</th>\n      <td>4</td>\n      <td>Iskosia90</td>\n      <td>23</td>\n      <td>Male</td>\n      <td>131</td>\n      <td>Fury</td>\n      <td>1.44</td>\n    </tr>\n  </tbody>\n</table>\n</div>"
     },
     "metadata": {},
     "execution_count": 163
    }
   ],
   "source": [
    "purchase_data.head()\n",
    ""
   ]
  },
  {
   "cell_type": "code",
   "execution_count": 158,
   "metadata": {},
   "outputs": [],
   "source": [
    "bins = [0, 9, 14, 19, 24, 29, 34, 39, 40]\n",
    "labels = [\"<10\", \"10-14\", \"15-19\", \"20-24\", \"25-29\", \"30-34\", \"35-39\", \"40+\"]"
   ]
  },
  {
   "cell_type": "code",
   "execution_count": 167,
   "metadata": {},
   "outputs": [
    {
     "output_type": "execute_result",
     "data": {
      "text/plain": "20-24    258\n15-19    107\n25-29     77\n30-34     52\n35-39     31\n10-14     22\n<10       17\n40+        5\nName: Age, dtype: int64"
     },
     "metadata": {},
     "execution_count": 167
    }
   ],
   "source": [
    "purchase_data.head()\n",
    "purchase_data_df = purchase_data[[\"Age\", \"SN\"]]\n",
    "purchase_data_df.drop_duplicates(inplace=True)\n",
    "purchase_data_df.head()\n",
    "age_data = pd.cut(purchase_data_df[\"Age\"], bins, labels=labels)\n",
    "age_data.value_counts()"
   ]
  },
  {
   "cell_type": "code",
   "execution_count": 175,
   "metadata": {},
   "outputs": [
    {
     "output_type": "stream",
     "name": "stdout",
     "text": "[44.79166666666667, 18.57638888888889, 13.368055555555555, 9.027777777777777, 5.381944444444445, 3.8194444444444446, 2.951388888888889, 0.8680555555555556]\n"
    }
   ],
   "source": [
    "age_list = [258, 107, 77, 52, 31, 22, 17, 5]\n",
    "percent_age = [(age/576)*100 for age in age_list]\n",
    "print(percent_age)\n",
    ""
   ]
  },
  {
   "cell_type": "code",
   "execution_count": 306,
   "metadata": {},
   "outputs": [
    {
     "output_type": "execute_result",
     "data": {
      "text/plain": "       Total Count Percentage of Players\nAges                                    \n<10             17                 2.95%\n10-14           22                 3.82%\n15-19          107                18.58%\n20-24          258                44.79%\n25-29           77                13.37%\n30-34           52                 9.03%\n35-39           31                 5.38%\n40+             12                 2.08%",
      "text/html": "<div>\n<style scoped>\n    .dataframe tbody tr th:only-of-type {\n        vertical-align: middle;\n    }\n\n    .dataframe tbody tr th {\n        vertical-align: top;\n    }\n\n    .dataframe thead th {\n        text-align: right;\n    }\n</style>\n<table border=\"1\" class=\"dataframe\">\n  <thead>\n    <tr style=\"text-align: right;\">\n      <th></th>\n      <th>Total Count</th>\n      <th>Percentage of Players</th>\n    </tr>\n    <tr>\n      <th>Ages</th>\n      <th></th>\n      <th></th>\n    </tr>\n  </thead>\n  <tbody>\n    <tr>\n      <th>&lt;10</th>\n      <td>17</td>\n      <td>2.95%</td>\n    </tr>\n    <tr>\n      <th>10-14</th>\n      <td>22</td>\n      <td>3.82%</td>\n    </tr>\n    <tr>\n      <th>15-19</th>\n      <td>107</td>\n      <td>18.58%</td>\n    </tr>\n    <tr>\n      <th>20-24</th>\n      <td>258</td>\n      <td>44.79%</td>\n    </tr>\n    <tr>\n      <th>25-29</th>\n      <td>77</td>\n      <td>13.37%</td>\n    </tr>\n    <tr>\n      <th>30-34</th>\n      <td>52</td>\n      <td>9.03%</td>\n    </tr>\n    <tr>\n      <th>35-39</th>\n      <td>31</td>\n      <td>5.38%</td>\n    </tr>\n    <tr>\n      <th>40+</th>\n      <td>12</td>\n      <td>2.08%</td>\n    </tr>\n  </tbody>\n</table>\n</div>"
     },
     "metadata": {},
     "execution_count": 306
    }
   ],
   "source": [
    "#Definitely a better way to do this portion... \n",
    "age_data_summary = {\n",
    "    \"Ages\": [\"<10\", \"10-14\", \"15-19\", \"20-24\", \"25-29\", \"30-34\", \"35-39\", \"40+\"],\n",
    "    \"Total Count\": [17, 22, 107, 258, 77, 52, 31, 12],\n",
    "    \"Percentage of Players\": [\"2.95%\", \"3.82%\", \"18.58%\", \"44.79%\", \"13.37%\", \"9.03%\", \"5.38%\", \"2.08%\"]\n",
    "}\n",
    "age_data_df = pd.DataFrame(age_data_summary)\n",
    "age_data_df.set_index(\"Ages\")"
   ]
  },
  {
   "cell_type": "code",
   "execution_count": 6,
   "metadata": {},
   "outputs": [
    {
     "data": {
      "text/html": [
       "<div>\n",
       "<style scoped>\n",
       "    .dataframe tbody tr th:only-of-type {\n",
       "        vertical-align: middle;\n",
       "    }\n",
       "\n",
       "    .dataframe tbody tr th {\n",
       "        vertical-align: top;\n",
       "    }\n",
       "\n",
       "    .dataframe thead th {\n",
       "        text-align: right;\n",
       "    }\n",
       "</style>\n",
       "<table border=\"1\" class=\"dataframe\">\n",
       "  <thead>\n",
       "    <tr style=\"text-align: right;\">\n",
       "      <th></th>\n",
       "      <th>Total Count</th>\n",
       "      <th>Percentage of Players</th>\n",
       "    </tr>\n",
       "  </thead>\n",
       "  <tbody>\n",
       "    <tr>\n",
       "      <th>&lt;10</th>\n",
       "      <td>17</td>\n",
       "      <td>2.95%</td>\n",
       "    </tr>\n",
       "    <tr>\n",
       "      <th>10-14</th>\n",
       "      <td>22</td>\n",
       "      <td>3.82%</td>\n",
       "    </tr>\n",
       "    <tr>\n",
       "      <th>15-19</th>\n",
       "      <td>107</td>\n",
       "      <td>18.58%</td>\n",
       "    </tr>\n",
       "    <tr>\n",
       "      <th>20-24</th>\n",
       "      <td>258</td>\n",
       "      <td>44.79%</td>\n",
       "    </tr>\n",
       "    <tr>\n",
       "      <th>25-29</th>\n",
       "      <td>77</td>\n",
       "      <td>13.37%</td>\n",
       "    </tr>\n",
       "    <tr>\n",
       "      <th>30-34</th>\n",
       "      <td>52</td>\n",
       "      <td>9.03%</td>\n",
       "    </tr>\n",
       "    <tr>\n",
       "      <th>35-39</th>\n",
       "      <td>31</td>\n",
       "      <td>5.38%</td>\n",
       "    </tr>\n",
       "    <tr>\n",
       "      <th>40+</th>\n",
       "      <td>12</td>\n",
       "      <td>2.08%</td>\n",
       "    </tr>\n",
       "  </tbody>\n",
       "</table>\n",
       "</div>"
      ],
      "text/plain": [
       "       Total Count Percentage of Players\n",
       "<10             17                 2.95%\n",
       "10-14           22                 3.82%\n",
       "15-19          107                18.58%\n",
       "20-24          258                44.79%\n",
       "25-29           77                13.37%\n",
       "30-34           52                 9.03%\n",
       "35-39           31                 5.38%\n",
       "40+             12                 2.08%"
      ]
     },
     "execution_count": 6,
     "metadata": {},
     "output_type": "execute_result"
    }
   ],
   "source": []
  },
  {
   "cell_type": "markdown",
   "metadata": {},
   "source": [
    "## Purchasing Analysis (Age)"
   ]
  },
  {
   "cell_type": "markdown",
   "metadata": {},
   "source": [
    "* Bin the purchase_data data frame by age\n",
    "\n",
    "\n",
    "* Run basic calculations to obtain purchase count, avg. purchase price, avg. purchase total per person etc. in the table below\n",
    "\n",
    "\n",
    "* Create a summary data frame to hold the results\n",
    "\n",
    "\n",
    "* Optional: give the displayed data cleaner formatting\n",
    "\n",
    "\n",
    "* Display the summary data frame"
   ]
  },
  {
   "cell_type": "code",
   "execution_count": 183,
   "metadata": {},
   "outputs": [
    {
     "output_type": "error",
     "ename": "TypeError",
     "evalue": "Cannot compare a Categorical for op __gt__ with a scalar, which is not a category.",
     "traceback": [
      "\u001b[1;31m---------------------------------------------------------------------------\u001b[0m",
      "\u001b[1;31mTypeError\u001b[0m                                 Traceback (most recent call last)",
      "\u001b[1;32m<ipython-input-183-84a09520a3f4>\u001b[0m in \u001b[0;36m<module>\u001b[1;34m\u001b[0m\n\u001b[1;32m----> 1\u001b[1;33m \u001b[0mpd\u001b[0m\u001b[1;33m.\u001b[0m\u001b[0mcut\u001b[0m\u001b[1;33m(\u001b[0m\u001b[0mpurchase_data\u001b[0m\u001b[1;33m[\u001b[0m\u001b[1;34m\"Age\"\u001b[0m\u001b[1;33m]\u001b[0m\u001b[1;33m,\u001b[0m \u001b[0mbins\u001b[0m\u001b[1;33m,\u001b[0m \u001b[0mlabels\u001b[0m\u001b[1;33m=\u001b[0m \u001b[0mlabels\u001b[0m\u001b[1;33m)\u001b[0m\u001b[1;33m\u001b[0m\u001b[1;33m\u001b[0m\u001b[0m\n\u001b[0m",
      "\u001b[1;32m~\\Anaconda3\\lib\\site-packages\\pandas\\core\\reshape\\tile.py\u001b[0m in \u001b[0;36mcut\u001b[1;34m(x, bins, right, labels, retbins, precision, include_lowest, duplicates)\u001b[0m\n\u001b[0;32m    263\u001b[0m         \u001b[0minclude_lowest\u001b[0m\u001b[1;33m=\u001b[0m\u001b[0minclude_lowest\u001b[0m\u001b[1;33m,\u001b[0m\u001b[1;33m\u001b[0m\u001b[1;33m\u001b[0m\u001b[0m\n\u001b[0;32m    264\u001b[0m         \u001b[0mdtype\u001b[0m\u001b[1;33m=\u001b[0m\u001b[0mdtype\u001b[0m\u001b[1;33m,\u001b[0m\u001b[1;33m\u001b[0m\u001b[1;33m\u001b[0m\u001b[0m\n\u001b[1;32m--> 265\u001b[1;33m         \u001b[0mduplicates\u001b[0m\u001b[1;33m=\u001b[0m\u001b[0mduplicates\u001b[0m\u001b[1;33m,\u001b[0m\u001b[1;33m\u001b[0m\u001b[1;33m\u001b[0m\u001b[0m\n\u001b[0m\u001b[0;32m    266\u001b[0m     )\n\u001b[0;32m    267\u001b[0m \u001b[1;33m\u001b[0m\u001b[0m\n",
      "\u001b[1;32m~\\Anaconda3\\lib\\site-packages\\pandas\\core\\reshape\\tile.py\u001b[0m in \u001b[0;36m_bins_to_cuts\u001b[1;34m(x, bins, right, labels, precision, include_lowest, dtype, duplicates)\u001b[0m\n\u001b[0;32m    386\u001b[0m \u001b[1;33m\u001b[0m\u001b[0m\n\u001b[0;32m    387\u001b[0m     \u001b[0mside\u001b[0m \u001b[1;33m=\u001b[0m \u001b[1;34m\"left\"\u001b[0m \u001b[1;32mif\u001b[0m \u001b[0mright\u001b[0m \u001b[1;32melse\u001b[0m \u001b[1;34m\"right\"\u001b[0m\u001b[1;33m\u001b[0m\u001b[1;33m\u001b[0m\u001b[0m\n\u001b[1;32m--> 388\u001b[1;33m     \u001b[0mids\u001b[0m \u001b[1;33m=\u001b[0m \u001b[0mensure_int64\u001b[0m\u001b[1;33m(\u001b[0m\u001b[0mbins\u001b[0m\u001b[1;33m.\u001b[0m\u001b[0msearchsorted\u001b[0m\u001b[1;33m(\u001b[0m\u001b[0mx\u001b[0m\u001b[1;33m,\u001b[0m \u001b[0mside\u001b[0m\u001b[1;33m=\u001b[0m\u001b[0mside\u001b[0m\u001b[1;33m)\u001b[0m\u001b[1;33m)\u001b[0m\u001b[1;33m\u001b[0m\u001b[1;33m\u001b[0m\u001b[0m\n\u001b[0m\u001b[0;32m    389\u001b[0m \u001b[1;33m\u001b[0m\u001b[0m\n\u001b[0;32m    390\u001b[0m     \u001b[1;32mif\u001b[0m \u001b[0minclude_lowest\u001b[0m\u001b[1;33m:\u001b[0m\u001b[1;33m\u001b[0m\u001b[1;33m\u001b[0m\u001b[0m\n",
      "\u001b[1;32m~\\Anaconda3\\lib\\site-packages\\pandas\\core\\ops\\common.py\u001b[0m in \u001b[0;36mnew_method\u001b[1;34m(self, other)\u001b[0m\n\u001b[0;32m     62\u001b[0m         \u001b[0mother\u001b[0m \u001b[1;33m=\u001b[0m \u001b[0mitem_from_zerodim\u001b[0m\u001b[1;33m(\u001b[0m\u001b[0mother\u001b[0m\u001b[1;33m)\u001b[0m\u001b[1;33m\u001b[0m\u001b[1;33m\u001b[0m\u001b[0m\n\u001b[0;32m     63\u001b[0m \u001b[1;33m\u001b[0m\u001b[0m\n\u001b[1;32m---> 64\u001b[1;33m         \u001b[1;32mreturn\u001b[0m \u001b[0mmethod\u001b[0m\u001b[1;33m(\u001b[0m\u001b[0mself\u001b[0m\u001b[1;33m,\u001b[0m \u001b[0mother\u001b[0m\u001b[1;33m)\u001b[0m\u001b[1;33m\u001b[0m\u001b[1;33m\u001b[0m\u001b[0m\n\u001b[0m\u001b[0;32m     65\u001b[0m \u001b[1;33m\u001b[0m\u001b[0m\n\u001b[0;32m     66\u001b[0m     \u001b[1;32mreturn\u001b[0m \u001b[0mnew_method\u001b[0m\u001b[1;33m\u001b[0m\u001b[1;33m\u001b[0m\u001b[0m\n",
      "\u001b[1;32m~\\Anaconda3\\lib\\site-packages\\pandas\\core\\ops\\__init__.py\u001b[0m in \u001b[0;36mwrapper\u001b[1;34m(self, other)\u001b[0m\n\u001b[0;32m    527\u001b[0m         \u001b[0mrvalues\u001b[0m \u001b[1;33m=\u001b[0m \u001b[0mextract_array\u001b[0m\u001b[1;33m(\u001b[0m\u001b[0mother\u001b[0m\u001b[1;33m,\u001b[0m \u001b[0mextract_numpy\u001b[0m\u001b[1;33m=\u001b[0m\u001b[1;32mTrue\u001b[0m\u001b[1;33m)\u001b[0m\u001b[1;33m\u001b[0m\u001b[1;33m\u001b[0m\u001b[0m\n\u001b[0;32m    528\u001b[0m \u001b[1;33m\u001b[0m\u001b[0m\n\u001b[1;32m--> 529\u001b[1;33m         \u001b[0mres_values\u001b[0m \u001b[1;33m=\u001b[0m \u001b[0mcomparison_op\u001b[0m\u001b[1;33m(\u001b[0m\u001b[0mlvalues\u001b[0m\u001b[1;33m,\u001b[0m \u001b[0mrvalues\u001b[0m\u001b[1;33m,\u001b[0m \u001b[0mop\u001b[0m\u001b[1;33m)\u001b[0m\u001b[1;33m\u001b[0m\u001b[1;33m\u001b[0m\u001b[0m\n\u001b[0m\u001b[0;32m    530\u001b[0m \u001b[1;33m\u001b[0m\u001b[0m\n\u001b[0;32m    531\u001b[0m         \u001b[1;32mreturn\u001b[0m \u001b[0m_construct_result\u001b[0m\u001b[1;33m(\u001b[0m\u001b[0mself\u001b[0m\u001b[1;33m,\u001b[0m \u001b[0mres_values\u001b[0m\u001b[1;33m,\u001b[0m \u001b[0mindex\u001b[0m\u001b[1;33m=\u001b[0m\u001b[0mself\u001b[0m\u001b[1;33m.\u001b[0m\u001b[0mindex\u001b[0m\u001b[1;33m,\u001b[0m \u001b[0mname\u001b[0m\u001b[1;33m=\u001b[0m\u001b[0mres_name\u001b[0m\u001b[1;33m)\u001b[0m\u001b[1;33m\u001b[0m\u001b[1;33m\u001b[0m\u001b[0m\n",
      "\u001b[1;32m~\\Anaconda3\\lib\\site-packages\\pandas\\core\\ops\\array_ops.py\u001b[0m in \u001b[0;36mcomparison_op\u001b[1;34m(left, right, op)\u001b[0m\n\u001b[0;32m    235\u001b[0m \u001b[1;33m\u001b[0m\u001b[0m\n\u001b[0;32m    236\u001b[0m     \u001b[1;32mif\u001b[0m \u001b[0mshould_extension_dispatch\u001b[0m\u001b[1;33m(\u001b[0m\u001b[0mlvalues\u001b[0m\u001b[1;33m,\u001b[0m \u001b[0mrvalues\u001b[0m\u001b[1;33m)\u001b[0m\u001b[1;33m:\u001b[0m\u001b[1;33m\u001b[0m\u001b[1;33m\u001b[0m\u001b[0m\n\u001b[1;32m--> 237\u001b[1;33m         \u001b[0mres_values\u001b[0m \u001b[1;33m=\u001b[0m \u001b[0mdispatch_to_extension_op\u001b[0m\u001b[1;33m(\u001b[0m\u001b[0mop\u001b[0m\u001b[1;33m,\u001b[0m \u001b[0mlvalues\u001b[0m\u001b[1;33m,\u001b[0m \u001b[0mrvalues\u001b[0m\u001b[1;33m)\u001b[0m\u001b[1;33m\u001b[0m\u001b[1;33m\u001b[0m\u001b[0m\n\u001b[0m\u001b[0;32m    238\u001b[0m \u001b[1;33m\u001b[0m\u001b[0m\n\u001b[0;32m    239\u001b[0m     \u001b[1;32melif\u001b[0m \u001b[0mis_scalar\u001b[0m\u001b[1;33m(\u001b[0m\u001b[0mrvalues\u001b[0m\u001b[1;33m)\u001b[0m \u001b[1;32mand\u001b[0m \u001b[0misna\u001b[0m\u001b[1;33m(\u001b[0m\u001b[0mrvalues\u001b[0m\u001b[1;33m)\u001b[0m\u001b[1;33m:\u001b[0m\u001b[1;33m\u001b[0m\u001b[1;33m\u001b[0m\u001b[0m\n",
      "\u001b[1;32m~\\Anaconda3\\lib\\site-packages\\pandas\\core\\ops\\dispatch.py\u001b[0m in \u001b[0;36mdispatch_to_extension_op\u001b[1;34m(op, left, right)\u001b[0m\n\u001b[0;32m    123\u001b[0m     \u001b[1;31m# The op calls will raise TypeError if the op is not defined\u001b[0m\u001b[1;33m\u001b[0m\u001b[1;33m\u001b[0m\u001b[1;33m\u001b[0m\u001b[0m\n\u001b[0;32m    124\u001b[0m     \u001b[1;31m# on the ExtensionArray\u001b[0m\u001b[1;33m\u001b[0m\u001b[1;33m\u001b[0m\u001b[1;33m\u001b[0m\u001b[0m\n\u001b[1;32m--> 125\u001b[1;33m     \u001b[0mres_values\u001b[0m \u001b[1;33m=\u001b[0m \u001b[0mop\u001b[0m\u001b[1;33m(\u001b[0m\u001b[0mleft\u001b[0m\u001b[1;33m,\u001b[0m \u001b[0mright\u001b[0m\u001b[1;33m)\u001b[0m\u001b[1;33m\u001b[0m\u001b[1;33m\u001b[0m\u001b[0m\n\u001b[0m\u001b[0;32m    126\u001b[0m     \u001b[1;32mreturn\u001b[0m \u001b[0mres_values\u001b[0m\u001b[1;33m\u001b[0m\u001b[1;33m\u001b[0m\u001b[0m\n",
      "\u001b[1;32m~\\Anaconda3\\lib\\site-packages\\pandas\\core\\ops\\common.py\u001b[0m in \u001b[0;36mnew_method\u001b[1;34m(self, other)\u001b[0m\n\u001b[0;32m     62\u001b[0m         \u001b[0mother\u001b[0m \u001b[1;33m=\u001b[0m \u001b[0mitem_from_zerodim\u001b[0m\u001b[1;33m(\u001b[0m\u001b[0mother\u001b[0m\u001b[1;33m)\u001b[0m\u001b[1;33m\u001b[0m\u001b[1;33m\u001b[0m\u001b[0m\n\u001b[0;32m     63\u001b[0m \u001b[1;33m\u001b[0m\u001b[0m\n\u001b[1;32m---> 64\u001b[1;33m         \u001b[1;32mreturn\u001b[0m \u001b[0mmethod\u001b[0m\u001b[1;33m(\u001b[0m\u001b[0mself\u001b[0m\u001b[1;33m,\u001b[0m \u001b[0mother\u001b[0m\u001b[1;33m)\u001b[0m\u001b[1;33m\u001b[0m\u001b[1;33m\u001b[0m\u001b[0m\n\u001b[0m\u001b[0;32m     65\u001b[0m \u001b[1;33m\u001b[0m\u001b[0m\n\u001b[0;32m     66\u001b[0m     \u001b[1;32mreturn\u001b[0m \u001b[0mnew_method\u001b[0m\u001b[1;33m\u001b[0m\u001b[1;33m\u001b[0m\u001b[0m\n",
      "\u001b[1;32m~\\Anaconda3\\lib\\site-packages\\pandas\\core\\arrays\\categorical.py\u001b[0m in \u001b[0;36mfunc\u001b[1;34m(self, other)\u001b[0m\n\u001b[0;32m    124\u001b[0m                 \u001b[1;32melse\u001b[0m\u001b[1;33m:\u001b[0m\u001b[1;33m\u001b[0m\u001b[1;33m\u001b[0m\u001b[0m\n\u001b[0;32m    125\u001b[0m                     raise TypeError(\n\u001b[1;32m--> 126\u001b[1;33m                         \u001b[1;34mf\"Cannot compare a Categorical for op {opname} with a \"\u001b[0m\u001b[1;33m\u001b[0m\u001b[1;33m\u001b[0m\u001b[0m\n\u001b[0m\u001b[0;32m    127\u001b[0m                         \u001b[1;34m\"scalar, which is not a category.\"\u001b[0m\u001b[1;33m\u001b[0m\u001b[1;33m\u001b[0m\u001b[0m\n\u001b[0;32m    128\u001b[0m                     )\n",
      "\u001b[1;31mTypeError\u001b[0m: Cannot compare a Categorical for op __gt__ with a scalar, which is not a category."
     ]
    }
   ],
   "source": [
    "#When trying to bin purchase_data by age I am getting \"TypeError: Cannot compare a Categorical for op __gt__ with a scalar, which is not a category.\" so I will remake the purchase_data data frame and rename as purchase_data_fixed_df "
   ]
  },
  {
   "cell_type": "code",
   "execution_count": 184,
   "metadata": {},
   "outputs": [
    {
     "output_type": "execute_result",
     "data": {
      "text/plain": "   Purchase ID             SN  Age Gender  Item ID  \\\n0            0        Lisim78   20   Male      108   \n1            1    Lisovynya38   40   Male      143   \n2            2     Ithergue48   24   Male       92   \n3            3  Chamassasya86   24   Male      100   \n4            4      Iskosia90   23   Male      131   \n\n                                   Item Name  Price  \n0  Extraction, Quickblade Of Trembling Hands   3.53  \n1                          Frenzied Scimitar   1.56  \n2                               Final Critic   4.88  \n3                                Blindscythe   3.27  \n4                                       Fury   1.44  ",
      "text/html": "<div>\n<style scoped>\n    .dataframe tbody tr th:only-of-type {\n        vertical-align: middle;\n    }\n\n    .dataframe tbody tr th {\n        vertical-align: top;\n    }\n\n    .dataframe thead th {\n        text-align: right;\n    }\n</style>\n<table border=\"1\" class=\"dataframe\">\n  <thead>\n    <tr style=\"text-align: right;\">\n      <th></th>\n      <th>Purchase ID</th>\n      <th>SN</th>\n      <th>Age</th>\n      <th>Gender</th>\n      <th>Item ID</th>\n      <th>Item Name</th>\n      <th>Price</th>\n    </tr>\n  </thead>\n  <tbody>\n    <tr>\n      <th>0</th>\n      <td>0</td>\n      <td>Lisim78</td>\n      <td>20</td>\n      <td>Male</td>\n      <td>108</td>\n      <td>Extraction, Quickblade Of Trembling Hands</td>\n      <td>3.53</td>\n    </tr>\n    <tr>\n      <th>1</th>\n      <td>1</td>\n      <td>Lisovynya38</td>\n      <td>40</td>\n      <td>Male</td>\n      <td>143</td>\n      <td>Frenzied Scimitar</td>\n      <td>1.56</td>\n    </tr>\n    <tr>\n      <th>2</th>\n      <td>2</td>\n      <td>Ithergue48</td>\n      <td>24</td>\n      <td>Male</td>\n      <td>92</td>\n      <td>Final Critic</td>\n      <td>4.88</td>\n    </tr>\n    <tr>\n      <th>3</th>\n      <td>3</td>\n      <td>Chamassasya86</td>\n      <td>24</td>\n      <td>Male</td>\n      <td>100</td>\n      <td>Blindscythe</td>\n      <td>3.27</td>\n    </tr>\n    <tr>\n      <th>4</th>\n      <td>4</td>\n      <td>Iskosia90</td>\n      <td>23</td>\n      <td>Male</td>\n      <td>131</td>\n      <td>Fury</td>\n      <td>1.44</td>\n    </tr>\n  </tbody>\n</table>\n</div>"
     },
     "metadata": {},
     "execution_count": 184
    }
   ],
   "source": [
    "purchase_data.head()"
   ]
  },
  {
   "cell_type": "code",
   "execution_count": 193,
   "metadata": {},
   "outputs": [
    {
     "output_type": "execute_result",
     "data": {
      "text/plain": "     Purchase ID             SN  Age  Gender  Item ID  \\\n0              0        Lisim78   20    Male      108   \n1              1    Lisovynya38   40    Male      143   \n2              2     Ithergue48   24    Male       92   \n3              3  Chamassasya86   24    Male      100   \n4              4      Iskosia90   23    Male      131   \n..           ...            ...  ...     ...      ...   \n775          775     Aethedru70   21  Female       60   \n776          776         Iral74   21    Male      164   \n777          777     Yathecal72   20    Male       67   \n778          778        Sisur91    7    Male       92   \n779          779      Ennrian78   24    Male       50   \n\n                                     Item Name  Price  \n0    Extraction, Quickblade Of Trembling Hands   3.53  \n1                            Frenzied Scimitar   1.56  \n2                                 Final Critic   4.88  \n3                                  Blindscythe   3.27  \n4                                         Fury   1.44  \n..                                         ...    ...  \n775                                       Wolf   3.54  \n776                           Exiled Doomblade   1.63  \n777      Celeste, Incarnation of the Corrupted   3.46  \n778                               Final Critic   4.19  \n779                                       Dawn   4.60  \n\n[780 rows x 7 columns]",
      "text/html": "<div>\n<style scoped>\n    .dataframe tbody tr th:only-of-type {\n        vertical-align: middle;\n    }\n\n    .dataframe tbody tr th {\n        vertical-align: top;\n    }\n\n    .dataframe thead th {\n        text-align: right;\n    }\n</style>\n<table border=\"1\" class=\"dataframe\">\n  <thead>\n    <tr style=\"text-align: right;\">\n      <th></th>\n      <th>Purchase ID</th>\n      <th>SN</th>\n      <th>Age</th>\n      <th>Gender</th>\n      <th>Item ID</th>\n      <th>Item Name</th>\n      <th>Price</th>\n    </tr>\n  </thead>\n  <tbody>\n    <tr>\n      <th>0</th>\n      <td>0</td>\n      <td>Lisim78</td>\n      <td>20</td>\n      <td>Male</td>\n      <td>108</td>\n      <td>Extraction, Quickblade Of Trembling Hands</td>\n      <td>3.53</td>\n    </tr>\n    <tr>\n      <th>1</th>\n      <td>1</td>\n      <td>Lisovynya38</td>\n      <td>40</td>\n      <td>Male</td>\n      <td>143</td>\n      <td>Frenzied Scimitar</td>\n      <td>1.56</td>\n    </tr>\n    <tr>\n      <th>2</th>\n      <td>2</td>\n      <td>Ithergue48</td>\n      <td>24</td>\n      <td>Male</td>\n      <td>92</td>\n      <td>Final Critic</td>\n      <td>4.88</td>\n    </tr>\n    <tr>\n      <th>3</th>\n      <td>3</td>\n      <td>Chamassasya86</td>\n      <td>24</td>\n      <td>Male</td>\n      <td>100</td>\n      <td>Blindscythe</td>\n      <td>3.27</td>\n    </tr>\n    <tr>\n      <th>4</th>\n      <td>4</td>\n      <td>Iskosia90</td>\n      <td>23</td>\n      <td>Male</td>\n      <td>131</td>\n      <td>Fury</td>\n      <td>1.44</td>\n    </tr>\n    <tr>\n      <th>...</th>\n      <td>...</td>\n      <td>...</td>\n      <td>...</td>\n      <td>...</td>\n      <td>...</td>\n      <td>...</td>\n      <td>...</td>\n    </tr>\n    <tr>\n      <th>775</th>\n      <td>775</td>\n      <td>Aethedru70</td>\n      <td>21</td>\n      <td>Female</td>\n      <td>60</td>\n      <td>Wolf</td>\n      <td>3.54</td>\n    </tr>\n    <tr>\n      <th>776</th>\n      <td>776</td>\n      <td>Iral74</td>\n      <td>21</td>\n      <td>Male</td>\n      <td>164</td>\n      <td>Exiled Doomblade</td>\n      <td>1.63</td>\n    </tr>\n    <tr>\n      <th>777</th>\n      <td>777</td>\n      <td>Yathecal72</td>\n      <td>20</td>\n      <td>Male</td>\n      <td>67</td>\n      <td>Celeste, Incarnation of the Corrupted</td>\n      <td>3.46</td>\n    </tr>\n    <tr>\n      <th>778</th>\n      <td>778</td>\n      <td>Sisur91</td>\n      <td>7</td>\n      <td>Male</td>\n      <td>92</td>\n      <td>Final Critic</td>\n      <td>4.19</td>\n    </tr>\n    <tr>\n      <th>779</th>\n      <td>779</td>\n      <td>Ennrian78</td>\n      <td>24</td>\n      <td>Male</td>\n      <td>50</td>\n      <td>Dawn</td>\n      <td>4.60</td>\n    </tr>\n  </tbody>\n</table>\n<p>780 rows × 7 columns</p>\n</div>"
     },
     "metadata": {},
     "execution_count": 193
    }
   ],
   "source": [
    "purchase_data_fixed_df = purchase_data[[\"Purchase ID\", \"SN\", \"Age\", \"Gender\", \"Item ID\", \"Item Name\", \"Price\"]]\n",
    "purchase_data_fixed_df"
   ]
  },
  {
   "cell_type": "code",
   "execution_count": 194,
   "metadata": {},
   "outputs": [
    {
     "output_type": "execute_result",
     "data": {
      "text/plain": "0    20-24\n1      40+\n2    20-24\n3    20-24\n4    20-24\nName: Age, dtype: category\nCategories (8, object): [<10 < 10-14 < 15-19 < 20-24 < 25-29 < 30-34 < 35-39 < 40+]"
     },
     "metadata": {},
     "execution_count": 194
    }
   ],
   "source": [
    "pd.cut(purchase_data_fixed_df[\"Age\"], bins, labels=labels).head()"
   ]
  },
  {
   "cell_type": "code",
   "execution_count": 195,
   "metadata": {},
   "outputs": [],
   "source": [
    "purchase_data_fixed_df[\"Age Groups\"] = pd.cut(purchase_data_fixed_df[\"Age\"], bins, labels=labels)"
   ]
  },
  {
   "cell_type": "code",
   "execution_count": 196,
   "metadata": {},
   "outputs": [
    {
     "output_type": "execute_result",
     "data": {
      "text/plain": "   Purchase ID             SN  Age Gender  Item ID  \\\n0            0        Lisim78   20   Male      108   \n1            1    Lisovynya38   40   Male      143   \n2            2     Ithergue48   24   Male       92   \n3            3  Chamassasya86   24   Male      100   \n4            4      Iskosia90   23   Male      131   \n\n                                   Item Name  Price Age Groups  \n0  Extraction, Quickblade Of Trembling Hands   3.53      20-24  \n1                          Frenzied Scimitar   1.56        40+  \n2                               Final Critic   4.88      20-24  \n3                                Blindscythe   3.27      20-24  \n4                                       Fury   1.44      20-24  ",
      "text/html": "<div>\n<style scoped>\n    .dataframe tbody tr th:only-of-type {\n        vertical-align: middle;\n    }\n\n    .dataframe tbody tr th {\n        vertical-align: top;\n    }\n\n    .dataframe thead th {\n        text-align: right;\n    }\n</style>\n<table border=\"1\" class=\"dataframe\">\n  <thead>\n    <tr style=\"text-align: right;\">\n      <th></th>\n      <th>Purchase ID</th>\n      <th>SN</th>\n      <th>Age</th>\n      <th>Gender</th>\n      <th>Item ID</th>\n      <th>Item Name</th>\n      <th>Price</th>\n      <th>Age Groups</th>\n    </tr>\n  </thead>\n  <tbody>\n    <tr>\n      <th>0</th>\n      <td>0</td>\n      <td>Lisim78</td>\n      <td>20</td>\n      <td>Male</td>\n      <td>108</td>\n      <td>Extraction, Quickblade Of Trembling Hands</td>\n      <td>3.53</td>\n      <td>20-24</td>\n    </tr>\n    <tr>\n      <th>1</th>\n      <td>1</td>\n      <td>Lisovynya38</td>\n      <td>40</td>\n      <td>Male</td>\n      <td>143</td>\n      <td>Frenzied Scimitar</td>\n      <td>1.56</td>\n      <td>40+</td>\n    </tr>\n    <tr>\n      <th>2</th>\n      <td>2</td>\n      <td>Ithergue48</td>\n      <td>24</td>\n      <td>Male</td>\n      <td>92</td>\n      <td>Final Critic</td>\n      <td>4.88</td>\n      <td>20-24</td>\n    </tr>\n    <tr>\n      <th>3</th>\n      <td>3</td>\n      <td>Chamassasya86</td>\n      <td>24</td>\n      <td>Male</td>\n      <td>100</td>\n      <td>Blindscythe</td>\n      <td>3.27</td>\n      <td>20-24</td>\n    </tr>\n    <tr>\n      <th>4</th>\n      <td>4</td>\n      <td>Iskosia90</td>\n      <td>23</td>\n      <td>Male</td>\n      <td>131</td>\n      <td>Fury</td>\n      <td>1.44</td>\n      <td>20-24</td>\n    </tr>\n  </tbody>\n</table>\n</div>"
     },
     "metadata": {},
     "execution_count": 196
    }
   ],
   "source": [
    "purchase_data_fixed_df.head()"
   ]
  },
  {
   "cell_type": "code",
   "execution_count": 203,
   "metadata": {},
   "outputs": [
    {
     "output_type": "execute_result",
     "data": {
      "text/plain": "Age Groups\n<10        77.13\n10-14      82.78\n15-19     412.89\n20-24    1114.06\n25-29     293.00\n30-34     214.00\n35-39     147.67\n40+        16.71\nName: Price, dtype: float64"
     },
     "metadata": {},
     "execution_count": 203
    }
   ],
   "source": [
    "grouped_purchases_df = purchase_data_fixed_df.groupby([\"Age Groups\"])\n",
    "grouped_purchases_df.count().head(10)\n",
    "grouped_purchases_df[\"Price\"].sum()"
   ]
  },
  {
   "cell_type": "code",
   "execution_count": 205,
   "metadata": {},
   "outputs": [
    {
     "output_type": "execute_result",
     "data": {
      "text/plain": "Age Groups\n<10       23\n10-14     28\n15-19    136\n20-24    365\n25-29    101\n30-34     73\n35-39     41\n40+        6\nName: Purchase ID, dtype: int64"
     },
     "metadata": {},
     "execution_count": 205
    }
   ],
   "source": [
    "grouped_purchases_df[\"Purchase ID\"].count()"
   ]
  },
  {
   "cell_type": "code",
   "execution_count": 208,
   "metadata": {},
   "outputs": [
    {
     "output_type": "stream",
     "name": "stdout",
     "text": "Age Groups\n<10      3.353478\n10-14    2.956429\n15-19    3.035956\n20-24    3.052219\n25-29    2.900990\n30-34    2.931507\n35-39    3.601707\n40+      2.785000\ndtype: float64\n"
    }
   ],
   "source": [
    "grouped_age_revenue = grouped_purchases_df[\"Price\"].sum()\n",
    "grouped_age_purch_count = grouped_purchases_df[\"Purchase ID\"].count()\n",
    "grouped_age_avg = grouped_age_revenue/grouped_age_purch_count\n",
    "print(grouped_age_avg)"
   ]
  },
  {
   "cell_type": "code",
   "execution_count": 209,
   "metadata": {},
   "outputs": [
    {
     "output_type": "stream",
     "name": "stdout",
     "text": "[4.537058823529412, 3.7627272727272727, 3.858785046728972, 4.318062015503876, 3.8051948051948052, 4.115384615384615, 4.763548387096773, 1.3925]\n"
    }
   ],
   "source": [
    "avg_revenue_by_age = [77.13/17, 82.78/22, 412.89/107, 1114.06/258, 293.00/77, 214.00/52, 147.67/31, 16.71/12]\n",
    "print(avg_revenue_by_age)"
   ]
  },
  {
   "cell_type": "code",
   "execution_count": 309,
   "metadata": {},
   "outputs": [
    {
     "output_type": "execute_result",
     "data": {
      "text/plain": "            Purchase Count Average Purchase Price Total Purchase Value  \\\nAge Ranges                                                               \n<10                     23                  $3.35               $77.13   \n10-14                   28                  $2.96               $82.78   \n15-19                  136                  $3.04              $412.89   \n20-24                  365                  $3.05             $1114.06   \n25-29                  101                  $2.90              $293.00   \n30-34                   73                  $2.93              $214.00   \n35-39                   41                  $3.60              $147.67   \n40+                      6                  $2.79               $16.71   \n\n           Avg Total Purchase Per Person  \nAge Ranges                                \n<10                                $4.54  \n10-14                              $3.76  \n15-19                              $3.86  \n20-24                              $4.32  \n25-29                              $3.81  \n30-34                              $4.12  \n35-39                              $4.76  \n40+                                $1.39  ",
      "text/html": "<div>\n<style scoped>\n    .dataframe tbody tr th:only-of-type {\n        vertical-align: middle;\n    }\n\n    .dataframe tbody tr th {\n        vertical-align: top;\n    }\n\n    .dataframe thead th {\n        text-align: right;\n    }\n</style>\n<table border=\"1\" class=\"dataframe\">\n  <thead>\n    <tr style=\"text-align: right;\">\n      <th></th>\n      <th>Purchase Count</th>\n      <th>Average Purchase Price</th>\n      <th>Total Purchase Value</th>\n      <th>Avg Total Purchase Per Person</th>\n    </tr>\n    <tr>\n      <th>Age Ranges</th>\n      <th></th>\n      <th></th>\n      <th></th>\n      <th></th>\n    </tr>\n  </thead>\n  <tbody>\n    <tr>\n      <th>&lt;10</th>\n      <td>23</td>\n      <td>$3.35</td>\n      <td>$77.13</td>\n      <td>$4.54</td>\n    </tr>\n    <tr>\n      <th>10-14</th>\n      <td>28</td>\n      <td>$2.96</td>\n      <td>$82.78</td>\n      <td>$3.76</td>\n    </tr>\n    <tr>\n      <th>15-19</th>\n      <td>136</td>\n      <td>$3.04</td>\n      <td>$412.89</td>\n      <td>$3.86</td>\n    </tr>\n    <tr>\n      <th>20-24</th>\n      <td>365</td>\n      <td>$3.05</td>\n      <td>$1114.06</td>\n      <td>$4.32</td>\n    </tr>\n    <tr>\n      <th>25-29</th>\n      <td>101</td>\n      <td>$2.90</td>\n      <td>$293.00</td>\n      <td>$3.81</td>\n    </tr>\n    <tr>\n      <th>30-34</th>\n      <td>73</td>\n      <td>$2.93</td>\n      <td>$214.00</td>\n      <td>$4.12</td>\n    </tr>\n    <tr>\n      <th>35-39</th>\n      <td>41</td>\n      <td>$3.60</td>\n      <td>$147.67</td>\n      <td>$4.76</td>\n    </tr>\n    <tr>\n      <th>40+</th>\n      <td>6</td>\n      <td>$2.79</td>\n      <td>$16.71</td>\n      <td>$1.39</td>\n    </tr>\n  </tbody>\n</table>\n</div>"
     },
     "metadata": {},
     "execution_count": 309
    }
   ],
   "source": [
    "age_purch_analysis = {\n",
    "    \"Age Ranges\": [\"<10\", \"10-14\", \"15-19\", \"20-24\", \"25-29\", \"30-34\", \"35-39\", \"40+\"],\n",
    "    \"Purchase Count\": [23, 28, 136, 365, 101, 73, 41, 6],\n",
    "    \"Average Purchase Price\": [3.35, 2.96, 3.04, 3.05, 2.90, 2.93, 3.60, 2.79],\n",
    "    \"Total Purchase Value\": [77.13, 82.78, 412.89, 1114.06, 293.00, 214.00, 147.67, 16.71],\n",
    "    \"Avg Total Purchase Per Person\": [4.54, 3.76, 3.86, 4.32, 3.81, 4.12, 4.76, 1.39]\n",
    "}\n",
    "age_purch_analysis_df = pd.DataFrame(age_purch_analysis)\n",
    "age_purch_analysis_df[\"Average Purchase Price\"] = age_purch_analysis_df[\"Average Purchase Price\"].map(\"${:.2f}\".format)\n",
    "age_purch_analysis_df[\"Total Purchase Value\"] = age_purch_analysis_df[\"Total Purchase Value\"].map(\"${:.2f}\".format)\n",
    "age_purch_analysis_df[\"Avg Total Purchase Per Person\"] = age_purch_analysis_df[\"Avg Total Purchase Per Person\"].map(\"${:.2f}\".format)\n",
    "\n",
    "age_purch_analysis_df\n",
    "age_purch_analysis_df.set_index([\"Age Ranges\"])"
   ]
  },
  {
   "cell_type": "markdown",
   "metadata": {},
   "source": [
    "## Top Spenders"
   ]
  },
  {
   "cell_type": "markdown",
   "metadata": {},
   "source": [
    "* Run basic calculations to obtain the results in the table below\n",
    "\n",
    "\n",
    "* Create a summary data frame to hold the results\n",
    "\n",
    "\n",
    "* Sort the total purchase value column in descending order\n",
    "\n",
    "\n",
    "* Optional: give the displayed data cleaner formatting\n",
    "\n",
    "\n",
    "* Display a preview of the summary data frame\n",
    "\n"
   ]
  },
  {
   "cell_type": "code",
   "execution_count": 215,
   "metadata": {},
   "outputs": [
    {
     "output_type": "execute_result",
     "data": {
      "text/plain": "Lisosia93        5\nIral74           4\nIdastidru52      4\nRaesty92         3\nSondastsda82     3\n                ..\nQuilassa66       1\nChanirrasta87    1\nHaeladil46       1\nErrian63         1\nPhilodil43       1\nName: SN, Length: 576, dtype: int64"
     },
     "metadata": {},
     "execution_count": 215
    }
   ],
   "source": [
    "purchase_data[\"SN\"].value_counts())"
   ]
  },
  {
   "cell_type": "code",
   "execution_count": 224,
   "metadata": {},
   "outputs": [
    {
     "output_type": "execute_result",
     "data": {
      "text/plain": "            SN\n0    Lisosia93\n1  Idastidru52\n2   Chamjask73\n3       Iral74\n4  Iskadarya95",
      "text/html": "<div>\n<style scoped>\n    .dataframe tbody tr th:only-of-type {\n        vertical-align: middle;\n    }\n\n    .dataframe tbody tr th {\n        vertical-align: top;\n    }\n\n    .dataframe thead th {\n        text-align: right;\n    }\n</style>\n<table border=\"1\" class=\"dataframe\">\n  <thead>\n    <tr style=\"text-align: right;\">\n      <th></th>\n      <th>SN</th>\n    </tr>\n  </thead>\n  <tbody>\n    <tr>\n      <th>0</th>\n      <td>Lisosia93</td>\n    </tr>\n    <tr>\n      <th>1</th>\n      <td>Idastidru52</td>\n    </tr>\n    <tr>\n      <th>2</th>\n      <td>Chamjask73</td>\n    </tr>\n    <tr>\n      <th>3</th>\n      <td>Iral74</td>\n    </tr>\n    <tr>\n      <th>4</th>\n      <td>Iskadarya95</td>\n    </tr>\n  </tbody>\n</table>\n</div>"
     },
     "metadata": {},
     "execution_count": 224
    }
   ],
   "source": [
    "top_spender_df = pd.DataFrame({\"SN\": [\"Lisosia93\", \"Idastidru52\", \"Chamjask73\", \"Iral74\", \"Iskadarya95\"]})\n",
    "top_spender_df"
   ]
  },
  {
   "cell_type": "code",
   "execution_count": 344,
   "metadata": {},
   "outputs": [],
   "source": [
    "#used a framework that Dave shared to save the output of each result into sepearate dictionary dataframes rather than collating them all at the end like I did in prior questions \n",
    "top_spender_1_temp = purchase_data.loc[purchase_data[\"SN\"] == \"Lisosia93\"].mean()\n",
    "top_spender_1_avg = top_spender_1_temp[\"Price\"]\n",
    "top_spender_2_temp = purchase_data.loc[purchase_data[\"SN\"] == \"Idastidru52\"].mean()\n",
    "top_spender_2_avg = top_spender_2_temp[\"Price\"]\n",
    "top_spender_3_temp = purchase_data.loc[purchase_data[\"SN\"] == \"Chamjask73\"].mean()\n",
    "top_spender_3_avg = top_spender_3_temp[\"Price\"]\n",
    "top_spender_4_temp = purchase_data.loc[purchase_data[\"SN\"] == \"Iral74\"].mean()\n",
    "top_spender_4_avg = top_spender_4_temp[\"Price\"]\n",
    "top_spender_5_temp = purchase_data.loc[purchase_data[\"SN\"] == \"Iskadarya95\"].mean()\n",
    "top_spender_5_avg = top_spender_5_temp[\"Price\"]\n",
    "top_spender_avg_dict = pd.DataFrame({\"Average Purchase Price\": [float(top_spender_1_avg), float(top_spender_2_avg), float(top_spender_3_avg), float(top_spender_4_avg), float(top_spender_5_avg)]})\n",
    "top_spender_df[\"Average Purchase Price\"] = top_spender_avg_dict"
   ]
  },
  {
   "cell_type": "code",
   "execution_count": 345,
   "metadata": {},
   "outputs": [],
   "source": [
    "top_spender_1_temp = purchase_data.loc[purchase_data[\"SN\"] == \"Lisosia93\"].sum()\n",
    "top_spender_1_rev = top_spender_1_temp[\"Price\"]\n",
    "top_spender_2_temp = purchase_data.loc[purchase_data[\"SN\"] == \"Idastidru52\"].sum()\n",
    "top_spender_2_rev = top_spender_2_temp[\"Price\"]\n",
    "top_spender_3_temp = purchase_data.loc[purchase_data[\"SN\"] == \"Chamjask73\"].sum()\n",
    "top_spender_3_rev = top_spender_3_temp[\"Price\"]\n",
    "top_spender_4_temp = purchase_data.loc[purchase_data[\"SN\"] == \"Iral74\"].sum()\n",
    "top_spender_4_rev = top_spender_4_temp[\"Price\"]\n",
    "top_spender_5_temp = purchase_data.loc[purchase_data[\"SN\"] == \"Iskadarya95\"].sum()\n",
    "top_spender_5_rev = top_spender_5_temp[\"Price\"]\n",
    "top_spender_rev_dict = pd.DataFrame({\"Total Purchase Value\": [float(top_spender_1_rev), float(top_spender_2_rev), float(top_spender_3_rev), float(top_spender_4_rev), float(top_spender_5_rev)]})\n",
    "top_spender_df[\"Total Purchase Value\"] = top_spender_rev_dict\n",
    ""
   ]
  },
  {
   "cell_type": "code",
   "execution_count": 346,
   "metadata": {},
   "outputs": [],
   "source": [
    "top_spender_1_temp = purchase_data.loc[purchase_data[\"SN\"] == \"Lisosia93\"].count()\n",
    "top_spender_1_count = top_spender_1_temp[\"SN\"]\n",
    "top_spender_2_temp = purchase_data.loc[purchase_data[\"SN\"] == \"Idastidru52\"].count()\n",
    "top_spender_2_count = top_spender_2_temp[\"SN\"]\n",
    "top_spender_3_temp = purchase_data.loc[purchase_data[\"SN\"] == \"Chamjask73\"].count()\n",
    "top_spender_3_count = top_spender_3_temp[\"SN\"]\n",
    "top_spender_4_temp = purchase_data.loc[purchase_data[\"SN\"] == \"Iral74\"].count()\n",
    "top_spender_4_count = top_spender_4_temp[\"SN\"]\n",
    "top_spender_5_temp = purchase_data.loc[purchase_data[\"SN\"] == \"Iskadarya95\"].count()\n",
    "top_spender_5_count = top_spender_5_temp[\"SN\"]\n",
    "top_spender_count_dict = pd.DataFrame({\"Purchase Count\": [top_spender_1_count, top_spender_2_count, top_spender_3_count, top_spender_4_count, top_spender_5_count]})\n",
    "top_spender_df[\"Purchase Count\"] = top_spender_count_dict"
   ]
  },
  {
   "cell_type": "code",
   "execution_count": 348,
   "metadata": {},
   "outputs": [
    {
     "output_type": "execute_result",
     "data": {
      "text/plain": "            Average Purchase Price Total Purchase Value  Purchase Count\nSN                                                                     \nLisosia93                    $3.79               $18.96               5\nIdastidru52                  $3.86               $15.45               4\nChamjask73                   $4.61               $13.83               3\nIral74                       $3.40               $13.62               4\nIskadarya95                  $4.37               $13.10               3",
      "text/html": "<div>\n<style scoped>\n    .dataframe tbody tr th:only-of-type {\n        vertical-align: middle;\n    }\n\n    .dataframe tbody tr th {\n        vertical-align: top;\n    }\n\n    .dataframe thead th {\n        text-align: right;\n    }\n</style>\n<table border=\"1\" class=\"dataframe\">\n  <thead>\n    <tr style=\"text-align: right;\">\n      <th></th>\n      <th>Average Purchase Price</th>\n      <th>Total Purchase Value</th>\n      <th>Purchase Count</th>\n    </tr>\n    <tr>\n      <th>SN</th>\n      <th></th>\n      <th></th>\n      <th></th>\n    </tr>\n  </thead>\n  <tbody>\n    <tr>\n      <th>Lisosia93</th>\n      <td>$3.79</td>\n      <td>$18.96</td>\n      <td>5</td>\n    </tr>\n    <tr>\n      <th>Idastidru52</th>\n      <td>$3.86</td>\n      <td>$15.45</td>\n      <td>4</td>\n    </tr>\n    <tr>\n      <th>Chamjask73</th>\n      <td>$4.61</td>\n      <td>$13.83</td>\n      <td>3</td>\n    </tr>\n    <tr>\n      <th>Iral74</th>\n      <td>$3.40</td>\n      <td>$13.62</td>\n      <td>4</td>\n    </tr>\n    <tr>\n      <th>Iskadarya95</th>\n      <td>$4.37</td>\n      <td>$13.10</td>\n      <td>3</td>\n    </tr>\n  </tbody>\n</table>\n</div>"
     },
     "metadata": {},
     "execution_count": 348
    }
   ],
   "source": [
    "top_spender_df[\"Average Purchase Price\"] = top_spender_df[\"Average Purchase Price\"].map(\"${:.2f}\".format)\n",
    "top_spender_df[\"Total Purchase Value\"] = top_spender_df[\"Total Purchase Value\"].map(\"${:.2f}\".format)\n",
    "\n",
    "top_spender_df.set_index([\"SN\"])"
   ]
  },
  {
   "cell_type": "code",
   "execution_count": 8,
   "metadata": {},
   "outputs": [
    {
     "data": {
      "text/html": [
       "<div>\n",
       "<style scoped>\n",
       "    .dataframe tbody tr th:only-of-type {\n",
       "        vertical-align: middle;\n",
       "    }\n",
       "\n",
       "    .dataframe tbody tr th {\n",
       "        vertical-align: top;\n",
       "    }\n",
       "\n",
       "    .dataframe thead th {\n",
       "        text-align: right;\n",
       "    }\n",
       "</style>\n",
       "<table border=\"1\" class=\"dataframe\">\n",
       "  <thead>\n",
       "    <tr style=\"text-align: right;\">\n",
       "      <th></th>\n",
       "      <th>Purchase Count</th>\n",
       "      <th>Average Purchase Price</th>\n",
       "      <th>Total Purchase Value</th>\n",
       "    </tr>\n",
       "    <tr>\n",
       "      <th>SN</th>\n",
       "      <th></th>\n",
       "      <th></th>\n",
       "      <th></th>\n",
       "    </tr>\n",
       "  </thead>\n",
       "  <tbody>\n",
       "    <tr>\n",
       "      <th>Lisosia93</th>\n",
       "      <td>5</td>\n",
       "      <td>$3.79</td>\n",
       "      <td>$18.96</td>\n",
       "    </tr>\n",
       "    <tr>\n",
       "      <th>Idastidru52</th>\n",
       "      <td>4</td>\n",
       "      <td>$3.86</td>\n",
       "      <td>$15.45</td>\n",
       "    </tr>\n",
       "    <tr>\n",
       "      <th>Chamjask73</th>\n",
       "      <td>3</td>\n",
       "      <td>$4.61</td>\n",
       "      <td>$13.83</td>\n",
       "    </tr>\n",
       "    <tr>\n",
       "      <th>Iral74</th>\n",
       "      <td>4</td>\n",
       "      <td>$3.40</td>\n",
       "      <td>$13.62</td>\n",
       "    </tr>\n",
       "    <tr>\n",
       "      <th>Iskadarya95</th>\n",
       "      <td>3</td>\n",
       "      <td>$4.37</td>\n",
       "      <td>$13.10</td>\n",
       "    </tr>\n",
       "  </tbody>\n",
       "</table>\n",
       "</div>"
      ],
      "text/plain": [
       "             Purchase Count Average Purchase Price Total Purchase Value\n",
       "SN                                                                     \n",
       "Lisosia93                 5                  $3.79               $18.96\n",
       "Idastidru52               4                  $3.86               $15.45\n",
       "Chamjask73                3                  $4.61               $13.83\n",
       "Iral74                    4                  $3.40               $13.62\n",
       "Iskadarya95               3                  $4.37               $13.10"
      ]
     },
     "execution_count": 8,
     "metadata": {},
     "output_type": "execute_result"
    }
   ],
   "source": []
  },
  {
   "cell_type": "markdown",
   "metadata": {},
   "source": [
    "## Most Popular Items"
   ]
  },
  {
   "cell_type": "markdown",
   "metadata": {},
   "source": [
    "* Retrieve the Item ID, Item Name, and Item Price columns\n",
    "\n",
    "\n",
    "* Group by Item ID and Item Name. Perform calculations to obtain purchase count, item price, and total purchase value\n",
    "\n",
    "\n",
    "* Create a summary data frame to hold the results\n",
    "\n",
    "\n",
    "* Sort the purchase count column in descending order\n",
    "\n",
    "\n",
    "* Optional: give the displayed data cleaner formatting\n",
    "\n",
    "\n",
    "* Display a preview of the summary data frame\n",
    "\n"
   ]
  },
  {
   "cell_type": "code",
   "execution_count": 239,
   "metadata": {},
   "outputs": [
    {
     "output_type": "execute_result",
     "data": {
      "text/plain": "   Purchase ID             SN  Age Gender  Item ID  \\\n0            0        Lisim78   20   Male      108   \n1            1    Lisovynya38   40   Male      143   \n2            2     Ithergue48   24   Male       92   \n3            3  Chamassasya86   24   Male      100   \n4            4      Iskosia90   23   Male      131   \n\n                                   Item Name  Price  \n0  Extraction, Quickblade Of Trembling Hands   3.53  \n1                          Frenzied Scimitar   1.56  \n2                               Final Critic   4.88  \n3                                Blindscythe   3.27  \n4                                       Fury   1.44  ",
      "text/html": "<div>\n<style scoped>\n    .dataframe tbody tr th:only-of-type {\n        vertical-align: middle;\n    }\n\n    .dataframe tbody tr th {\n        vertical-align: top;\n    }\n\n    .dataframe thead th {\n        text-align: right;\n    }\n</style>\n<table border=\"1\" class=\"dataframe\">\n  <thead>\n    <tr style=\"text-align: right;\">\n      <th></th>\n      <th>Purchase ID</th>\n      <th>SN</th>\n      <th>Age</th>\n      <th>Gender</th>\n      <th>Item ID</th>\n      <th>Item Name</th>\n      <th>Price</th>\n    </tr>\n  </thead>\n  <tbody>\n    <tr>\n      <th>0</th>\n      <td>0</td>\n      <td>Lisim78</td>\n      <td>20</td>\n      <td>Male</td>\n      <td>108</td>\n      <td>Extraction, Quickblade Of Trembling Hands</td>\n      <td>3.53</td>\n    </tr>\n    <tr>\n      <th>1</th>\n      <td>1</td>\n      <td>Lisovynya38</td>\n      <td>40</td>\n      <td>Male</td>\n      <td>143</td>\n      <td>Frenzied Scimitar</td>\n      <td>1.56</td>\n    </tr>\n    <tr>\n      <th>2</th>\n      <td>2</td>\n      <td>Ithergue48</td>\n      <td>24</td>\n      <td>Male</td>\n      <td>92</td>\n      <td>Final Critic</td>\n      <td>4.88</td>\n    </tr>\n    <tr>\n      <th>3</th>\n      <td>3</td>\n      <td>Chamassasya86</td>\n      <td>24</td>\n      <td>Male</td>\n      <td>100</td>\n      <td>Blindscythe</td>\n      <td>3.27</td>\n    </tr>\n    <tr>\n      <th>4</th>\n      <td>4</td>\n      <td>Iskosia90</td>\n      <td>23</td>\n      <td>Male</td>\n      <td>131</td>\n      <td>Fury</td>\n      <td>1.44</td>\n    </tr>\n  </tbody>\n</table>\n</div>"
     },
     "metadata": {},
     "execution_count": 239
    }
   ],
   "source": [
    "purchase_data.head()"
   ]
  },
  {
   "cell_type": "code",
   "execution_count": 240,
   "metadata": {},
   "outputs": [],
   "source": [
    "popular_items_df = purchase_data[[\"Item ID\", \"Item Name\", \"Price\"]]"
   ]
  },
  {
   "cell_type": "code",
   "execution_count": 247,
   "metadata": {},
   "outputs": [
    {
     "output_type": "execute_result",
     "data": {
      "text/plain": "Item ID  Item Name                                     Item ID\n92       Final Critic                                  92         13\n178      Oathbreaker, Last Hope of the Breaking Storm  178        12\n108      Extraction, Quickblade Of Trembling Hands     108         9\n132      Persuasion                                    132         9\n82       Nirvana                                       82          9\n                                                                  ..\n104      Gladiator's Glaive                            104         1\n27       Riddle, Tribute of Ended Dreams               27          1\n134      Undead Crusader                               134         1\n118      Ghost Reaver, Longsword of Magic              118         1\n91       Celeste                                       91          1\nName: Item ID, Length: 179, dtype: int64"
     },
     "metadata": {},
     "execution_count": 247
    }
   ],
   "source": [
    "grouped_items_df = popular_items_df.groupby([\"Item ID\", \"Item Name\"])\n",
    "grouped_items_df.head(10)\n",
    "grouped_items_df[\"Item ID\"].value_counts().sort_values(ascending=False)\n",
    ""
   ]
  },
  {
   "cell_type": "code",
   "execution_count": 250,
   "metadata": {},
   "outputs": [
    {
     "output_type": "execute_result",
     "data": {
      "text/plain": "   Item ID\n0       92\n1      178\n2      108\n3      132\n4       82",
      "text/html": "<div>\n<style scoped>\n    .dataframe tbody tr th:only-of-type {\n        vertical-align: middle;\n    }\n\n    .dataframe tbody tr th {\n        vertical-align: top;\n    }\n\n    .dataframe thead th {\n        text-align: right;\n    }\n</style>\n<table border=\"1\" class=\"dataframe\">\n  <thead>\n    <tr style=\"text-align: right;\">\n      <th></th>\n      <th>Item ID</th>\n    </tr>\n  </thead>\n  <tbody>\n    <tr>\n      <th>0</th>\n      <td>92</td>\n    </tr>\n    <tr>\n      <th>1</th>\n      <td>178</td>\n    </tr>\n    <tr>\n      <th>2</th>\n      <td>108</td>\n    </tr>\n    <tr>\n      <th>3</th>\n      <td>132</td>\n    </tr>\n    <tr>\n      <th>4</th>\n      <td>82</td>\n    </tr>\n  </tbody>\n</table>\n</div>"
     },
     "metadata": {},
     "execution_count": 250
    }
   ],
   "source": [
    "pop_items_df = pd.DataFrame({\"Item ID\": [92, 178, 108, 132, 82]})\n",
    "pop_items_df.head()"
   ]
  },
  {
   "cell_type": "code",
   "execution_count": 252,
   "metadata": {},
   "outputs": [
    {
     "output_type": "execute_result",
     "data": {
      "text/plain": "   Item ID                                  Item Name\n0       92                               Final Critic\n1      178   Oathbreaker, Last Hope of Breaking Storm\n2      108                       Fiery Glass Crusader\n3      132                                 Persuasion\n4       82  Extraction, Quickblade of Trembling Hands",
      "text/html": "<div>\n<style scoped>\n    .dataframe tbody tr th:only-of-type {\n        vertical-align: middle;\n    }\n\n    .dataframe tbody tr th {\n        vertical-align: top;\n    }\n\n    .dataframe thead th {\n        text-align: right;\n    }\n</style>\n<table border=\"1\" class=\"dataframe\">\n  <thead>\n    <tr style=\"text-align: right;\">\n      <th></th>\n      <th>Item ID</th>\n      <th>Item Name</th>\n    </tr>\n  </thead>\n  <tbody>\n    <tr>\n      <th>0</th>\n      <td>92</td>\n      <td>Final Critic</td>\n    </tr>\n    <tr>\n      <th>1</th>\n      <td>178</td>\n      <td>Oathbreaker, Last Hope of Breaking Storm</td>\n    </tr>\n    <tr>\n      <th>2</th>\n      <td>108</td>\n      <td>Fiery Glass Crusader</td>\n    </tr>\n    <tr>\n      <th>3</th>\n      <td>132</td>\n      <td>Persuasion</td>\n    </tr>\n    <tr>\n      <th>4</th>\n      <td>82</td>\n      <td>Extraction, Quickblade of Trembling Hands</td>\n    </tr>\n  </tbody>\n</table>\n</div>"
     },
     "metadata": {},
     "execution_count": 252
    }
   ],
   "source": [
    "pop_item_name_dict = pd.DataFrame({\"Item Name\": [\"Final Critic\", \"Oathbreaker, Last Hope of Breaking Storm\", \"Fiery Glass Crusader\", \"Persuasion\", \"Extraction, Quickblade of Trembling Hands\"]})\n",
    "pop_items_df[\"Item Name\"] = pop_item_name_dict\n",
    "pop_items_df"
   ]
  },
  {
   "cell_type": "code",
   "execution_count": 267,
   "metadata": {},
   "outputs": [
    {
     "output_type": "execute_result",
     "data": {
      "text/plain": "   Item ID                                  Item Name  Purchase Count\n0       92                               Final Critic              13\n1      178   Oathbreaker, Last Hope of Breaking Storm              12\n2      108                       Fiery Glass Crusader               9\n3      132                                 Persuasion               9\n4       82  Extraction, Quickblade of Trembling Hands               9",
      "text/html": "<div>\n<style scoped>\n    .dataframe tbody tr th:only-of-type {\n        vertical-align: middle;\n    }\n\n    .dataframe tbody tr th {\n        vertical-align: top;\n    }\n\n    .dataframe thead th {\n        text-align: right;\n    }\n</style>\n<table border=\"1\" class=\"dataframe\">\n  <thead>\n    <tr style=\"text-align: right;\">\n      <th></th>\n      <th>Item ID</th>\n      <th>Item Name</th>\n      <th>Purchase Count</th>\n    </tr>\n  </thead>\n  <tbody>\n    <tr>\n      <th>0</th>\n      <td>92</td>\n      <td>Final Critic</td>\n      <td>13</td>\n    </tr>\n    <tr>\n      <th>1</th>\n      <td>178</td>\n      <td>Oathbreaker, Last Hope of Breaking Storm</td>\n      <td>12</td>\n    </tr>\n    <tr>\n      <th>2</th>\n      <td>108</td>\n      <td>Fiery Glass Crusader</td>\n      <td>9</td>\n    </tr>\n    <tr>\n      <th>3</th>\n      <td>132</td>\n      <td>Persuasion</td>\n      <td>9</td>\n    </tr>\n    <tr>\n      <th>4</th>\n      <td>82</td>\n      <td>Extraction, Quickblade of Trembling Hands</td>\n      <td>9</td>\n    </tr>\n  </tbody>\n</table>\n</div>"
     },
     "metadata": {},
     "execution_count": 267
    }
   ],
   "source": [
    "pop_item_1_temp = purchase_data.loc[purchase_data[\"Item ID\"] == 92].count()\n",
    "pop_item_1_count = pop_item_1_temp[\"Item ID\"]\n",
    "pop_item_2_temp = purchase_data.loc[purchase_data[\"Item ID\"] == 178].count()\n",
    "pop_item_2_count = pop_item_2_temp[\"Item ID\"]\n",
    "pop_item_3_temp = purchase_data.loc[purchase_data[\"Item ID\"] == 108].count()\n",
    "pop_item_3_count = pop_item_3_temp[\"Item ID\"]\n",
    "pop_item_4_temp = purchase_data.loc[purchase_data[\"Item ID\"] == 132].count()\n",
    "pop_item_4_count = pop_item_4_temp[\"Item ID\"]\n",
    "pop_item_5_temp = purchase_data.loc[purchase_data[\"Item ID\"] == 82].count()\n",
    "pop_item_5_count = pop_item_5_temp[\"Item ID\"]\n",
    "pop_item_count_dict = pd.DataFrame({\"Purchase Count\": [pop_item_1_count, pop_item_2_count, pop_item_3_count, pop_item_4_count, pop_item_5_count]})\n",
    "pop_items_df[\"Purchase Count\"] = pop_item_count_dict\n",
    "pop_items_df"
   ]
  },
  {
   "cell_type": "code",
   "execution_count": 261,
   "metadata": {},
   "outputs": [
    {
     "output_type": "stream",
     "name": "stdout",
     "text": "2      4.88\n99     4.19\n252    4.88\n273    4.88\n277    4.88\n411    4.19\n536    4.19\n712    4.88\n722    4.88\n767    4.88\n768    4.88\n774    4.19\n778    4.19\nName: Price, dtype: float64\n"
    }
   ],
   "source": []
  },
  {
   "cell_type": "code",
   "execution_count": 351,
   "metadata": {},
   "outputs": [
    {
     "output_type": "execute_result",
     "data": {
      "text/plain": "                                         Item Name  Purchase Count Item Price  \\\nItem ID                                                                         \n92                                    Final Critic              13      $4.61   \n178       Oathbreaker, Last Hope of Breaking Storm              12      $4.23   \n108                           Fiery Glass Crusader               9      $3.53   \n132                                     Persuasion               9      $3.22   \n82       Extraction, Quickblade of Trembling Hands               9      $4.90   \n\n        Total Purchase Value  \nItem ID                       \n92                    $59.99  \n178                   $50.76  \n108                   $31.77  \n132                   $28.99  \n82                    $44.10  ",
      "text/html": "<div>\n<style scoped>\n    .dataframe tbody tr th:only-of-type {\n        vertical-align: middle;\n    }\n\n    .dataframe tbody tr th {\n        vertical-align: top;\n    }\n\n    .dataframe thead th {\n        text-align: right;\n    }\n</style>\n<table border=\"1\" class=\"dataframe\">\n  <thead>\n    <tr style=\"text-align: right;\">\n      <th></th>\n      <th>Item Name</th>\n      <th>Purchase Count</th>\n      <th>Item Price</th>\n      <th>Total Purchase Value</th>\n    </tr>\n    <tr>\n      <th>Item ID</th>\n      <th></th>\n      <th></th>\n      <th></th>\n      <th></th>\n    </tr>\n  </thead>\n  <tbody>\n    <tr>\n      <th>92</th>\n      <td>Final Critic</td>\n      <td>13</td>\n      <td>$4.61</td>\n      <td>$59.99</td>\n    </tr>\n    <tr>\n      <th>178</th>\n      <td>Oathbreaker, Last Hope of Breaking Storm</td>\n      <td>12</td>\n      <td>$4.23</td>\n      <td>$50.76</td>\n    </tr>\n    <tr>\n      <th>108</th>\n      <td>Fiery Glass Crusader</td>\n      <td>9</td>\n      <td>$3.53</td>\n      <td>$31.77</td>\n    </tr>\n    <tr>\n      <th>132</th>\n      <td>Persuasion</td>\n      <td>9</td>\n      <td>$3.22</td>\n      <td>$28.99</td>\n    </tr>\n    <tr>\n      <th>82</th>\n      <td>Extraction, Quickblade of Trembling Hands</td>\n      <td>9</td>\n      <td>$4.90</td>\n      <td>$44.10</td>\n    </tr>\n  </tbody>\n</table>\n</div>"
     },
     "metadata": {},
     "execution_count": 351
    }
   ],
   "source": [
    "pop_item_1_temp = purchase_data.loc[purchase_data[\"Item ID\"] == 92].sum()\n",
    "pop_item_1_rev = pop_item_1_temp[\"Price\"]\n",
    "pop_item_1_price = pop_item_1_rev/pop_item_1_count\n",
    "pop_item_2_temp = purchase_data.loc[purchase_data[\"Item ID\"] == 178].sum()\n",
    "pop_item_2_rev = pop_item_2_temp[\"Price\"]\n",
    "pop_item_2_price = pop_item_2_rev/pop_item_2_count\n",
    "pop_item_3_temp = purchase_data.loc[purchase_data[\"Item ID\"] == 108].sum()\n",
    "pop_item_3_rev = pop_item_3_temp[\"Price\"]\n",
    "pop_item_3_price = pop_item_3_rev/pop_item_3_count\n",
    "pop_item_4_temp = purchase_data.loc[purchase_data[\"Item ID\"] == 132].sum()\n",
    "pop_item_4_rev = pop_item_4_temp[\"Price\"]\n",
    "pop_item_4_price = pop_item_4_rev/pop_item_4_count\n",
    "pop_item_5_temp = purchase_data.loc[purchase_data[\"Item ID\"] == 82].sum()\n",
    "pop_item_5_rev = pop_item_5_temp[\"Price\"]\n",
    "pop_item_5_price = pop_item_5_rev/pop_item_5_count\n",
    "pop_item_price_dict = pd.DataFrame({\"Item Price\" : [pop_item_1_price, pop_item_2_price, pop_item_3_price, pop_item_4_price, pop_item_5_price]})\n",
    "pop_items_df[\"Item Price\"] = pop_item_price_dict\n",
    "pop_item_rev_dict = pd.DataFrame({\"Total Purchase Value\": [pop_item_1_rev, pop_item_2_rev, pop_item_3_rev, pop_item_4_rev, pop_item_5_rev]})\n",
    "pop_items_df[\"Total Purchase Value\"] = pop_item_rev_dict\n",
    "pop_items_df[\"Item Price\"] = pop_items_df[\"Item Price\"].map(\"${:.2f}\".format)\n",
    "pop_items_df[\"Total Purchase Value\"] = pop_items_df[\"Total Purchase Value\"].map(\"${:.2f}\".format)\n",
    "pop_items_df.set_index([\"Item ID\"])"
   ]
  },
  {
   "cell_type": "code",
   "execution_count": null,
   "metadata": {},
   "outputs": [],
   "source": []
  },
  {
   "cell_type": "code",
   "execution_count": 9,
   "metadata": {},
   "outputs": [
    {
     "data": {
      "text/html": [
       "<div>\n",
       "<style scoped>\n",
       "    .dataframe tbody tr th:only-of-type {\n",
       "        vertical-align: middle;\n",
       "    }\n",
       "\n",
       "    .dataframe tbody tr th {\n",
       "        vertical-align: top;\n",
       "    }\n",
       "\n",
       "    .dataframe thead th {\n",
       "        text-align: right;\n",
       "    }\n",
       "</style>\n",
       "<table border=\"1\" class=\"dataframe\">\n",
       "  <thead>\n",
       "    <tr style=\"text-align: right;\">\n",
       "      <th></th>\n",
       "      <th></th>\n",
       "      <th>Purchase Count</th>\n",
       "      <th>Item Price</th>\n",
       "      <th>Total Purchase Value</th>\n",
       "    </tr>\n",
       "    <tr>\n",
       "      <th>Item ID</th>\n",
       "      <th>Item Name</th>\n",
       "      <th></th>\n",
       "      <th></th>\n",
       "      <th></th>\n",
       "    </tr>\n",
       "  </thead>\n",
       "  <tbody>\n",
       "    <tr>\n",
       "      <th>92</th>\n",
       "      <th>Final Critic</th>\n",
       "      <td>13</td>\n",
       "      <td>$4.61</td>\n",
       "      <td>$59.99</td>\n",
       "    </tr>\n",
       "    <tr>\n",
       "      <th>178</th>\n",
       "      <th>Oathbreaker, Last Hope of the Breaking Storm</th>\n",
       "      <td>12</td>\n",
       "      <td>$4.23</td>\n",
       "      <td>$50.76</td>\n",
       "    </tr>\n",
       "    <tr>\n",
       "      <th>145</th>\n",
       "      <th>Fiery Glass Crusader</th>\n",
       "      <td>9</td>\n",
       "      <td>$4.58</td>\n",
       "      <td>$41.22</td>\n",
       "    </tr>\n",
       "    <tr>\n",
       "      <th>132</th>\n",
       "      <th>Persuasion</th>\n",
       "      <td>9</td>\n",
       "      <td>$3.22</td>\n",
       "      <td>$28.99</td>\n",
       "    </tr>\n",
       "    <tr>\n",
       "      <th>108</th>\n",
       "      <th>Extraction, Quickblade Of Trembling Hands</th>\n",
       "      <td>9</td>\n",
       "      <td>$3.53</td>\n",
       "      <td>$31.77</td>\n",
       "    </tr>\n",
       "  </tbody>\n",
       "</table>\n",
       "</div>"
      ],
      "text/plain": [
       "                                                     Purchase Count  \\\n",
       "Item ID Item Name                                                     \n",
       "92      Final Critic                                             13   \n",
       "178     Oathbreaker, Last Hope of the Breaking Storm             12   \n",
       "145     Fiery Glass Crusader                                      9   \n",
       "132     Persuasion                                                9   \n",
       "108     Extraction, Quickblade Of Trembling Hands                 9   \n",
       "\n",
       "                                                     Item Price  \\\n",
       "Item ID Item Name                                                 \n",
       "92      Final Critic                                      $4.61   \n",
       "178     Oathbreaker, Last Hope of the Breaking Storm      $4.23   \n",
       "145     Fiery Glass Crusader                              $4.58   \n",
       "132     Persuasion                                        $3.22   \n",
       "108     Extraction, Quickblade Of Trembling Hands         $3.53   \n",
       "\n",
       "                                                     Total Purchase Value  \n",
       "Item ID Item Name                                                          \n",
       "92      Final Critic                                               $59.99  \n",
       "178     Oathbreaker, Last Hope of the Breaking Storm               $50.76  \n",
       "145     Fiery Glass Crusader                                       $41.22  \n",
       "132     Persuasion                                                 $28.99  \n",
       "108     Extraction, Quickblade Of Trembling Hands                  $31.77  "
      ]
     },
     "execution_count": 9,
     "metadata": {},
     "output_type": "execute_result"
    }
   ],
   "source": []
  },
  {
   "cell_type": "markdown",
   "metadata": {},
   "source": [
    "## Most Profitable Items"
   ]
  },
  {
   "cell_type": "markdown",
   "metadata": {},
   "source": [
    "* Sort the above table by total purchase value in descending order\n",
    "\n",
    "\n",
    "* Optional: give the displayed data cleaner formatting\n",
    "\n",
    "\n",
    "* Display a preview of the data frame\n",
    "\n"
   ]
  },
  {
   "cell_type": "code",
   "execution_count": 274,
   "metadata": {},
   "outputs": [],
   "source": [
    "popular_items_df = purchase_data[[\"Item ID\", \"Item Name\", \"Price\"]]"
   ]
  },
  {
   "cell_type": "code",
   "execution_count": 276,
   "metadata": {},
   "outputs": [
    {
     "output_type": "execute_result",
     "data": {
      "text/plain": "Item ID  Item Name                                   \n92       Final Critic                                    59.99\n178      Oathbreaker, Last Hope of the Breaking Storm    50.76\n82       Nirvana                                         44.10\n145      Fiery Glass Crusader                            41.22\n103      Singed Scalpel                                  34.80\n                                                         ...  \n28       Flux, Destroyer of Due Diligence                 2.12\n125      Whistling Mithril Warblade                       2.00\n126      Exiled Mithril Longsword                         2.00\n104      Gladiator's Glaive                               1.93\n42       The Decapitator                                  1.75\nName: Price, Length: 179, dtype: float64"
     },
     "metadata": {},
     "execution_count": 276
    }
   ],
   "source": [
    "grouped_items_df = popular_items_df.groupby([\"Item ID\", \"Item Name\"])\n",
    "grouped_items_df.head(10)\n",
    "grouped_items_df[\"Price\"].sum().sort_values(ascending=False)"
   ]
  },
  {
   "cell_type": "code",
   "execution_count": 277,
   "metadata": {},
   "outputs": [
    {
     "output_type": "execute_result",
     "data": {
      "text/plain": "   Item ID\n0       92\n1      178\n2       82\n3      145\n4      103",
      "text/html": "<div>\n<style scoped>\n    .dataframe tbody tr th:only-of-type {\n        vertical-align: middle;\n    }\n\n    .dataframe tbody tr th {\n        vertical-align: top;\n    }\n\n    .dataframe thead th {\n        text-align: right;\n    }\n</style>\n<table border=\"1\" class=\"dataframe\">\n  <thead>\n    <tr style=\"text-align: right;\">\n      <th></th>\n      <th>Item ID</th>\n    </tr>\n  </thead>\n  <tbody>\n    <tr>\n      <th>0</th>\n      <td>92</td>\n    </tr>\n    <tr>\n      <th>1</th>\n      <td>178</td>\n    </tr>\n    <tr>\n      <th>2</th>\n      <td>82</td>\n    </tr>\n    <tr>\n      <th>3</th>\n      <td>145</td>\n    </tr>\n    <tr>\n      <th>4</th>\n      <td>103</td>\n    </tr>\n  </tbody>\n</table>\n</div>"
     },
     "metadata": {},
     "execution_count": 277
    }
   ],
   "source": [
    "profit_items_df = pd.DataFrame({\"Item ID\": [92, 178, 82, 145, 103]})\n",
    "profit_items_df.head()\n",
    ""
   ]
  },
  {
   "cell_type": "code",
   "execution_count": 278,
   "metadata": {},
   "outputs": [
    {
     "output_type": "execute_result",
     "data": {
      "text/plain": "   Item ID                                 Item Name\n0       92                              Final Critic\n1      178  Oathbreaker, Last Hope of Breaking Storm\n2       82                                   Nirvana\n3      145                      Fiery Glass Crusader\n4      103                            Singed Scalpel",
      "text/html": "<div>\n<style scoped>\n    .dataframe tbody tr th:only-of-type {\n        vertical-align: middle;\n    }\n\n    .dataframe tbody tr th {\n        vertical-align: top;\n    }\n\n    .dataframe thead th {\n        text-align: right;\n    }\n</style>\n<table border=\"1\" class=\"dataframe\">\n  <thead>\n    <tr style=\"text-align: right;\">\n      <th></th>\n      <th>Item ID</th>\n      <th>Item Name</th>\n    </tr>\n  </thead>\n  <tbody>\n    <tr>\n      <th>0</th>\n      <td>92</td>\n      <td>Final Critic</td>\n    </tr>\n    <tr>\n      <th>1</th>\n      <td>178</td>\n      <td>Oathbreaker, Last Hope of Breaking Storm</td>\n    </tr>\n    <tr>\n      <th>2</th>\n      <td>82</td>\n      <td>Nirvana</td>\n    </tr>\n    <tr>\n      <th>3</th>\n      <td>145</td>\n      <td>Fiery Glass Crusader</td>\n    </tr>\n    <tr>\n      <th>4</th>\n      <td>103</td>\n      <td>Singed Scalpel</td>\n    </tr>\n  </tbody>\n</table>\n</div>"
     },
     "metadata": {},
     "execution_count": 278
    }
   ],
   "source": [
    "profit_items_names_dict = pd.DataFrame({\"Item Name\": [\"Final Critic\", \"Oathbreaker, Last Hope of Breaking Storm\", \"Nirvana\", \"Fiery Glass Crusader\", \"Singed Scalpel\"]})\n",
    "profit_items_df[\"Item Name\"] = profit_items_names_dict\n",
    "profit_items_df.head()"
   ]
  },
  {
   "cell_type": "code",
   "execution_count": 279,
   "metadata": {},
   "outputs": [
    {
     "output_type": "execute_result",
     "data": {
      "text/plain": "   Item ID                                 Item Name  Purchase Count\n0       92                              Final Critic              13\n1      178  Oathbreaker, Last Hope of Breaking Storm              12\n2       82                                   Nirvana               9\n3      145                      Fiery Glass Crusader               9\n4      103                            Singed Scalpel               8",
      "text/html": "<div>\n<style scoped>\n    .dataframe tbody tr th:only-of-type {\n        vertical-align: middle;\n    }\n\n    .dataframe tbody tr th {\n        vertical-align: top;\n    }\n\n    .dataframe thead th {\n        text-align: right;\n    }\n</style>\n<table border=\"1\" class=\"dataframe\">\n  <thead>\n    <tr style=\"text-align: right;\">\n      <th></th>\n      <th>Item ID</th>\n      <th>Item Name</th>\n      <th>Purchase Count</th>\n    </tr>\n  </thead>\n  <tbody>\n    <tr>\n      <th>0</th>\n      <td>92</td>\n      <td>Final Critic</td>\n      <td>13</td>\n    </tr>\n    <tr>\n      <th>1</th>\n      <td>178</td>\n      <td>Oathbreaker, Last Hope of Breaking Storm</td>\n      <td>12</td>\n    </tr>\n    <tr>\n      <th>2</th>\n      <td>82</td>\n      <td>Nirvana</td>\n      <td>9</td>\n    </tr>\n    <tr>\n      <th>3</th>\n      <td>145</td>\n      <td>Fiery Glass Crusader</td>\n      <td>9</td>\n    </tr>\n    <tr>\n      <th>4</th>\n      <td>103</td>\n      <td>Singed Scalpel</td>\n      <td>8</td>\n    </tr>\n  </tbody>\n</table>\n</div>"
     },
     "metadata": {},
     "execution_count": 279
    }
   ],
   "source": [
    "pro_item_1_temp = purchase_data.loc[purchase_data[\"Item ID\"] == 92].count()\n",
    "pro_item_1_count = pro_item_1_temp[\"Item ID\"]\n",
    "pro_item_2_temp = purchase_data.loc[purchase_data[\"Item ID\"] == 178].count()\n",
    "pro_item_2_count = pro_item_2_temp[\"Item ID\"]\n",
    "pro_item_3_temp = purchase_data.loc[purchase_data[\"Item ID\"] == 82].count()\n",
    "pro_item_3_count = pro_item_3_temp[\"Item ID\"]\n",
    "pro_item_4_temp = purchase_data.loc[purchase_data[\"Item ID\"] == 145].count()\n",
    "pro_item_4_count = pro_item_4_temp[\"Item ID\"]\n",
    "pro_item_5_temp = purchase_data.loc[purchase_data[\"Item ID\"] == 103].count()\n",
    "pro_item_5_count = pro_item_5_temp[\"Item ID\"]\n",
    "pro_item_count_dict = pd.DataFrame({\"Purchase Count\": [pro_item_1_count, pro_item_2_count, pro_item_3_count, pro_item_4_count, pro_item_5_count]})\n",
    "profit_items_df[\"Purchase Count\"] = pro_item_count_dict\n",
    "profit_items_df"
   ]
  },
  {
   "cell_type": "code",
   "execution_count": 352,
   "metadata": {},
   "outputs": [
    {
     "output_type": "execute_result",
     "data": {
      "text/plain": "                                        Item Name  Purchase Count Item Price  \\\nItem ID                                                                        \n92                                   Final Critic              13      $4.61   \n178      Oathbreaker, Last Hope of Breaking Storm              12      $4.23   \n82                                        Nirvana               9      $4.90   \n145                          Fiery Glass Crusader               9      $4.58   \n103                                Singed Scalpel               8      $4.35   \n\n        Total Purchase Value  \nItem ID                       \n92                    $59.99  \n178                   $50.76  \n82                    $44.10  \n145                   $41.22  \n103                   $34.80  ",
      "text/html": "<div>\n<style scoped>\n    .dataframe tbody tr th:only-of-type {\n        vertical-align: middle;\n    }\n\n    .dataframe tbody tr th {\n        vertical-align: top;\n    }\n\n    .dataframe thead th {\n        text-align: right;\n    }\n</style>\n<table border=\"1\" class=\"dataframe\">\n  <thead>\n    <tr style=\"text-align: right;\">\n      <th></th>\n      <th>Item Name</th>\n      <th>Purchase Count</th>\n      <th>Item Price</th>\n      <th>Total Purchase Value</th>\n    </tr>\n    <tr>\n      <th>Item ID</th>\n      <th></th>\n      <th></th>\n      <th></th>\n      <th></th>\n    </tr>\n  </thead>\n  <tbody>\n    <tr>\n      <th>92</th>\n      <td>Final Critic</td>\n      <td>13</td>\n      <td>$4.61</td>\n      <td>$59.99</td>\n    </tr>\n    <tr>\n      <th>178</th>\n      <td>Oathbreaker, Last Hope of Breaking Storm</td>\n      <td>12</td>\n      <td>$4.23</td>\n      <td>$50.76</td>\n    </tr>\n    <tr>\n      <th>82</th>\n      <td>Nirvana</td>\n      <td>9</td>\n      <td>$4.90</td>\n      <td>$44.10</td>\n    </tr>\n    <tr>\n      <th>145</th>\n      <td>Fiery Glass Crusader</td>\n      <td>9</td>\n      <td>$4.58</td>\n      <td>$41.22</td>\n    </tr>\n    <tr>\n      <th>103</th>\n      <td>Singed Scalpel</td>\n      <td>8</td>\n      <td>$4.35</td>\n      <td>$34.80</td>\n    </tr>\n  </tbody>\n</table>\n</div>"
     },
     "metadata": {},
     "execution_count": 352
    }
   ],
   "source": [
    "pro_item_1_temp = purchase_data.loc[purchase_data[\"Item ID\"] == 92].sum()\n",
    "pro_item_1_rev = pro_item_1_temp[\"Price\"]\n",
    "pro_item_1_price = pro_item_1_rev/pro_item_1_count\n",
    "pro_item_2_temp = purchase_data.loc[purchase_data[\"Item ID\"] == 178].sum()\n",
    "pro_item_2_rev = pro_item_2_temp[\"Price\"]\n",
    "pro_item_2_price = pro_item_2_rev/pro_item_2_count\n",
    "pro_item_3_temp = purchase_data.loc[purchase_data[\"Item ID\"] == 82].sum()\n",
    "pro_item_3_rev = pro_item_3_temp[\"Price\"]\n",
    "pro_item_3_price = pro_item_3_rev/pro_item_3_count\n",
    "pro_item_4_temp = purchase_data.loc[purchase_data[\"Item ID\"] == 145].sum()\n",
    "pro_item_4_rev = pro_item_4_temp[\"Price\"]\n",
    "pro_item_4_price = pro_item_4_rev/pro_item_4_count\n",
    "pro_item_5_temp = purchase_data.loc[purchase_data[\"Item ID\"] == 103].sum()\n",
    "pro_item_5_rev = pro_item_5_temp[\"Price\"]\n",
    "pro_item_5_price = pro_item_5_rev/pro_item_5_count\n",
    "pro_item_price_dict = pd.DataFrame({\"Item Price\" : [pro_item_1_price, pro_item_2_price, pro_item_3_price, pro_item_4_price, pro_item_5_price]})\n",
    "profit_items_df[\"Item Price\"] = pro_item_price_dict\n",
    "pro_item_rev_dict = pd.DataFrame({\"Total Purchase Value\": [pro_item_1_rev, pro_item_2_rev, pro_item_3_rev, pro_item_4_rev, pro_item_5_rev]})\n",
    "profit_items_df[\"Total Purchase Value\"] = pro_item_rev_dict\n",
    "profit_items_df[\"Item Price\"] = profit_items_df[\"Item Price\"].map(\"${:.2f}\".format)\n",
    "profit_items_df[\"Total Purchase Value\"] = profit_items_df[\"Total Purchase Value\"].map(\"${:.2f}\".format)\n",
    "profit_items_df.set_index([\"Item ID\"])"
   ]
  },
  {
   "cell_type": "code",
   "execution_count": 10,
   "metadata": {
    "scrolled": true
   },
   "outputs": [
    {
     "data": {
      "text/html": [
       "<div>\n",
       "<style scoped>\n",
       "    .dataframe tbody tr th:only-of-type {\n",
       "        vertical-align: middle;\n",
       "    }\n",
       "\n",
       "    .dataframe tbody tr th {\n",
       "        vertical-align: top;\n",
       "    }\n",
       "\n",
       "    .dataframe thead th {\n",
       "        text-align: right;\n",
       "    }\n",
       "</style>\n",
       "<table border=\"1\" class=\"dataframe\">\n",
       "  <thead>\n",
       "    <tr style=\"text-align: right;\">\n",
       "      <th></th>\n",
       "      <th></th>\n",
       "      <th>Purchase Count</th>\n",
       "      <th>Item Price</th>\n",
       "      <th>Total Purchase Value</th>\n",
       "    </tr>\n",
       "    <tr>\n",
       "      <th>Item ID</th>\n",
       "      <th>Item Name</th>\n",
       "      <th></th>\n",
       "      <th></th>\n",
       "      <th></th>\n",
       "    </tr>\n",
       "  </thead>\n",
       "  <tbody>\n",
       "    <tr>\n",
       "      <th>92</th>\n",
       "      <th>Final Critic</th>\n",
       "      <td>13</td>\n",
       "      <td>$4.61</td>\n",
       "      <td>$59.99</td>\n",
       "    </tr>\n",
       "    <tr>\n",
       "      <th>178</th>\n",
       "      <th>Oathbreaker, Last Hope of the Breaking Storm</th>\n",
       "      <td>12</td>\n",
       "      <td>$4.23</td>\n",
       "      <td>$50.76</td>\n",
       "    </tr>\n",
       "    <tr>\n",
       "      <th>82</th>\n",
       "      <th>Nirvana</th>\n",
       "      <td>9</td>\n",
       "      <td>$4.90</td>\n",
       "      <td>$44.10</td>\n",
       "    </tr>\n",
       "    <tr>\n",
       "      <th>145</th>\n",
       "      <th>Fiery Glass Crusader</th>\n",
       "      <td>9</td>\n",
       "      <td>$4.58</td>\n",
       "      <td>$41.22</td>\n",
       "    </tr>\n",
       "    <tr>\n",
       "      <th>103</th>\n",
       "      <th>Singed Scalpel</th>\n",
       "      <td>8</td>\n",
       "      <td>$4.35</td>\n",
       "      <td>$34.80</td>\n",
       "    </tr>\n",
       "  </tbody>\n",
       "</table>\n",
       "</div>"
      ],
      "text/plain": [
       "                                                     Purchase Count  \\\n",
       "Item ID Item Name                                                     \n",
       "92      Final Critic                                             13   \n",
       "178     Oathbreaker, Last Hope of the Breaking Storm             12   \n",
       "82      Nirvana                                                   9   \n",
       "145     Fiery Glass Crusader                                      9   \n",
       "103     Singed Scalpel                                            8   \n",
       "\n",
       "                                                     Item Price  \\\n",
       "Item ID Item Name                                                 \n",
       "92      Final Critic                                      $4.61   \n",
       "178     Oathbreaker, Last Hope of the Breaking Storm      $4.23   \n",
       "82      Nirvana                                           $4.90   \n",
       "145     Fiery Glass Crusader                              $4.58   \n",
       "103     Singed Scalpel                                    $4.35   \n",
       "\n",
       "                                                     Total Purchase Value  \n",
       "Item ID Item Name                                                          \n",
       "92      Final Critic                                               $59.99  \n",
       "178     Oathbreaker, Last Hope of the Breaking Storm               $50.76  \n",
       "82      Nirvana                                                    $44.10  \n",
       "145     Fiery Glass Crusader                                       $41.22  \n",
       "103     Singed Scalpel                                             $34.80  "
      ]
     },
     "execution_count": 10,
     "metadata": {},
     "output_type": "execute_result"
    }
   ],
   "source": []
  }
 ],
 "metadata": {
  "anaconda-cloud": {},
  "kernel_info": {
   "name": "python3"
  },
  "kernelspec": {
   "display_name": "Python 3",
   "language": "python",
   "name": "python3"
  },
  "language_info": {
   "codemirror_mode": {
    "name": "ipython",
    "version": 3
   },
   "file_extension": ".py",
   "mimetype": "text/x-python",
   "name": "python",
   "nbconvert_exporter": "python",
   "pygments_lexer": "ipython3",
   "version": "3.7.4-final"
  },
  "latex_envs": {
   "LaTeX_envs_menu_present": true,
   "autoclose": false,
   "autocomplete": true,
   "bibliofile": "biblio.bib",
   "cite_by": "apalike",
   "current_citInitial": 1,
   "eqLabelWithNumbers": true,
   "eqNumInitial": 1,
   "hotkeys": {
    "equation": "Ctrl-E",
    "itemize": "Ctrl-I"
   },
   "labels_anchors": false,
   "latex_user_defs": false,
   "report_style_numbering": false,
   "user_envs_cfg": false
  },
  "nteract": {
   "version": "0.2.0"
  }
 },
 "nbformat": 4,
 "nbformat_minor": 2
}